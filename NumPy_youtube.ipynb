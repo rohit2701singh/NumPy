{
  "nbformat": 4,
  "nbformat_minor": 0,
  "metadata": {
    "colab": {
      "provenance": [],
      "gpuType": "T4",
      "authorship_tag": "ABX9TyP+LQCVpdDgo51liFAd/fbI",
      "include_colab_link": true
    },
    "kernelspec": {
      "name": "python3",
      "display_name": "Python 3"
    },
    "language_info": {
      "name": "python"
    }
  },
  "cells": [
    {
      "cell_type": "markdown",
      "metadata": {
        "id": "view-in-github",
        "colab_type": "text"
      },
      "source": [
        "<a href=\"https://colab.research.google.com/github/rohit2701singh/NumPy/blob/main/NumPy_youtube.ipynb\" target=\"_parent\"><img src=\"https://colab.research.google.com/assets/colab-badge.svg\" alt=\"Open In Colab\"/></a>"
      ]
    },
    {
      "cell_type": "code",
      "execution_count": 1,
      "metadata": {
        "id": "xoMfONICxCQZ"
      },
      "outputs": [],
      "source": [
        "import numpy as np"
      ]
    },
    {
      "cell_type": "code",
      "source": [
        "arr = np.array([[1,2,3,4],[2,3,4,5]])\n",
        "arr"
      ],
      "metadata": {
        "colab": {
          "base_uri": "https://localhost:8080/"
        },
        "id": "xSvkxhkNAni_",
        "outputId": "7782abea-0e29-44a1-de58-47f9d5b8b034"
      },
      "execution_count": 2,
      "outputs": [
        {
          "output_type": "execute_result",
          "data": {
            "text/plain": [
              "array([[1, 2, 3, 4],\n",
              "       [2, 3, 4, 5]])"
            ]
          },
          "metadata": {},
          "execution_count": 2
        }
      ]
    },
    {
      "cell_type": "code",
      "source": [
        "np.identity(5)  # diagonal elements are 1"
      ],
      "metadata": {
        "colab": {
          "base_uri": "https://localhost:8080/"
        },
        "id": "eBY_40HXBN3c",
        "outputId": "57b2b5bb-e2b0-43a9-ece3-e92eb0fdfd0a"
      },
      "execution_count": 3,
      "outputs": [
        {
          "output_type": "execute_result",
          "data": {
            "text/plain": [
              "array([[1., 0., 0., 0., 0.],\n",
              "       [0., 1., 0., 0., 0.],\n",
              "       [0., 0., 1., 0., 0.],\n",
              "       [0., 0., 0., 1., 0.],\n",
              "       [0., 0., 0., 0., 1.]])"
            ]
          },
          "metadata": {},
          "execution_count": 3
        }
      ]
    },
    {
      "cell_type": "code",
      "source": [
        "a1 = np.zeros((3,3))\n",
        "a2 = np.ones((3,3))\n",
        "print(a1)\n",
        "print(a2)"
      ],
      "metadata": {
        "colab": {
          "base_uri": "https://localhost:8080/"
        },
        "id": "WChPhmKzxapL",
        "outputId": "58044064-f6cd-4796-aa25-7a9d40c47fe6"
      },
      "execution_count": 4,
      "outputs": [
        {
          "output_type": "stream",
          "name": "stdout",
          "text": [
            "[[0. 0. 0.]\n",
            " [0. 0. 0.]\n",
            " [0. 0. 0.]]\n",
            "[[1. 1. 1.]\n",
            " [1. 1. 1.]\n",
            " [1. 1. 1.]]\n"
          ]
        }
      ]
    },
    {
      "cell_type": "code",
      "source": [
        "np.empty((3,2), dtype=int)"
      ],
      "metadata": {
        "colab": {
          "base_uri": "https://localhost:8080/"
        },
        "id": "8PF6UedQxnEG",
        "outputId": "6d09a758-06a0-4dc8-8b7b-f74011ae45b0"
      },
      "execution_count": 5,
      "outputs": [
        {
          "output_type": "execute_result",
          "data": {
            "text/plain": [
              "array([[96197968112439,              0],\n",
              "       [  416611827815,   137438953580],\n",
              "       [  433791697011,   459561500773]])"
            ]
          },
          "metadata": {},
          "execution_count": 5
        }
      ]
    },
    {
      "cell_type": "code",
      "source": [
        "np.empty((3,2))"
      ],
      "metadata": {
        "colab": {
          "base_uri": "https://localhost:8080/"
        },
        "id": "VW2jc22myNBc",
        "outputId": "02e9e927-5fd8-4d71-8f2f-3e707649415f"
      },
      "execution_count": 6,
      "outputs": [
        {
          "output_type": "execute_result",
          "data": {
            "text/plain": [
              "array([[4.75281110e-310, 0.00000000e+000],\n",
              "       [6.79197056e-310, 6.79199094e-310],\n",
              "       [6.79197056e-310, 6.79197056e-310]])"
            ]
          },
          "metadata": {},
          "execution_count": 6
        }
      ]
    },
    {
      "cell_type": "code",
      "source": [
        "np.linspace(20,40,10, dtype=int)    # linearly spaced"
      ],
      "metadata": {
        "colab": {
          "base_uri": "https://localhost:8080/"
        },
        "id": "rGjuh6SABtBZ",
        "outputId": "0c0a35bf-5ae1-4cad-b184-cfcb570dea28"
      },
      "execution_count": 7,
      "outputs": [
        {
          "output_type": "execute_result",
          "data": {
            "text/plain": [
              "array([20, 22, 24, 26, 28, 31, 33, 35, 37, 40])"
            ]
          },
          "metadata": {},
          "execution_count": 7
        }
      ]
    },
    {
      "cell_type": "code",
      "source": [
        "np.random.random((2,2,3))"
      ],
      "metadata": {
        "colab": {
          "base_uri": "https://localhost:8080/"
        },
        "id": "JJHXhAudyJOJ",
        "outputId": "f7f3665a-790c-40fb-8fb0-5242c78aeb33"
      },
      "execution_count": 8,
      "outputs": [
        {
          "output_type": "execute_result",
          "data": {
            "text/plain": [
              "array([[[0.32252696, 0.43601411, 0.05379542],\n",
              "        [0.22873392, 0.30380468, 0.73635931]],\n",
              "\n",
              "       [[0.43779559, 0.21661629, 0.77727333],\n",
              "        [0.3303628 , 0.16097057, 0.75614382]]])"
            ]
          },
          "metadata": {},
          "execution_count": 8
        }
      ]
    },
    {
      "cell_type": "code",
      "source": [
        "np.random.randint(low=1, high=100, size=20).reshape(4,5)"
      ],
      "metadata": {
        "colab": {
          "base_uri": "https://localhost:8080/"
        },
        "id": "lmhPEnbw-epc",
        "outputId": "d18b1f05-386e-4090-974b-e3c1379a0b29"
      },
      "execution_count": 9,
      "outputs": [
        {
          "output_type": "execute_result",
          "data": {
            "text/plain": [
              "array([[62, 77, 60, 89, 94],\n",
              "       [80, 45,  4,  2, 96],\n",
              "       [36, 75, 34, 22, 37],\n",
              "       [ 6, 89, 91,  9, 46]])"
            ]
          },
          "metadata": {},
          "execution_count": 9
        }
      ]
    },
    {
      "cell_type": "code",
      "source": [
        "np.random.randint(low=1, high=100, size=(2,3,4))"
      ],
      "metadata": {
        "colab": {
          "base_uri": "https://localhost:8080/"
        },
        "id": "z-2dKvYswpzC",
        "outputId": "4ad730f1-51b7-450f-9591-85aa98fefec3"
      },
      "execution_count": 10,
      "outputs": [
        {
          "output_type": "execute_result",
          "data": {
            "text/plain": [
              "array([[[31, 41, 76, 26],\n",
              "        [ 9, 75, 63, 56],\n",
              "        [88, 23, 21, 40]],\n",
              "\n",
              "       [[49, 84, 62, 73],\n",
              "        [88,  5, 97, 80],\n",
              "        [73, 10, 56, 55]]])"
            ]
          },
          "metadata": {},
          "execution_count": 10
        }
      ]
    },
    {
      "cell_type": "code",
      "source": [
        "a1 = np.arange(1,19).reshape((6,3))\n",
        "a2 = np.arange(20,38).reshape((6,3))\n",
        "print(a1)\n",
        "print(a2)\n",
        "print(np.sum(a2, axis=1))\n",
        "np.sum(a1, axis=0)\n"
      ],
      "metadata": {
        "colab": {
          "base_uri": "https://localhost:8080/"
        },
        "id": "N0QF5x7uzl1g",
        "outputId": "39925b0b-5a81-4c31-f218-b41ebb5ffce9"
      },
      "execution_count": 11,
      "outputs": [
        {
          "output_type": "stream",
          "name": "stdout",
          "text": [
            "[[ 1  2  3]\n",
            " [ 4  5  6]\n",
            " [ 7  8  9]\n",
            " [10 11 12]\n",
            " [13 14 15]\n",
            " [16 17 18]]\n",
            "[[20 21 22]\n",
            " [23 24 25]\n",
            " [26 27 28]\n",
            " [29 30 31]\n",
            " [32 33 34]\n",
            " [35 36 37]]\n",
            "[ 63  72  81  90  99 108]\n"
          ]
        },
        {
          "output_type": "execute_result",
          "data": {
            "text/plain": [
              "array([51, 57, 63])"
            ]
          },
          "metadata": {},
          "execution_count": 11
        }
      ]
    },
    {
      "cell_type": "markdown",
      "source": [
        "# numpy attributes\n",
        "\n",
        "```\n",
        "shape\n",
        "ndim\n",
        "size\n",
        "itemsize\n",
        "dtype\n",
        "astype\n",
        "```\n",
        "\n",
        "\n",
        "\n",
        "\n",
        "\n",
        "\n",
        "\n"
      ],
      "metadata": {
        "id": "kO4jhEhHCOCt"
      }
    },
    {
      "cell_type": "code",
      "source": [
        "arr = np.arange(18).reshape((3,3,2))\n",
        "arr"
      ],
      "metadata": {
        "colab": {
          "base_uri": "https://localhost:8080/"
        },
        "id": "wh1wtRtNCNuI",
        "outputId": "5b4e5082-f641-48b3-fa52-4eab4b90587c"
      },
      "execution_count": 12,
      "outputs": [
        {
          "output_type": "execute_result",
          "data": {
            "text/plain": [
              "array([[[ 0,  1],\n",
              "        [ 2,  3],\n",
              "        [ 4,  5]],\n",
              "\n",
              "       [[ 6,  7],\n",
              "        [ 8,  9],\n",
              "        [10, 11]],\n",
              "\n",
              "       [[12, 13],\n",
              "        [14, 15],\n",
              "        [16, 17]]])"
            ]
          },
          "metadata": {},
          "execution_count": 12
        }
      ]
    },
    {
      "cell_type": "code",
      "source": [
        "print(\"shape:\",arr.shape)\n",
        "print(\"size:\",arr.size)\n",
        "print(\"dimension:\",arr.ndim)\n",
        "print(\"datatype:\",arr.dtype)\n",
        "print(\"itemsize:\",arr.itemsize) # int64 occupy 8 bytes"
      ],
      "metadata": {
        "colab": {
          "base_uri": "https://localhost:8080/"
        },
        "id": "kLzl4pwTDP2p",
        "outputId": "957a4280-9e54-4327-f323-538b112db956"
      },
      "execution_count": 13,
      "outputs": [
        {
          "output_type": "stream",
          "name": "stdout",
          "text": [
            "shape: (3, 3, 2)\n",
            "size: 18\n",
            "dimension: 3\n",
            "datatype: int64\n",
            "itemsize: 8\n"
          ]
        }
      ]
    },
    {
      "cell_type": "code",
      "source": [
        "arr = arr.astype(np.int32)  # change datatype\n",
        "print(arr)\n",
        "print(\"itemsize:\",arr.itemsize) # int32 occupy 4 bytes"
      ],
      "metadata": {
        "colab": {
          "base_uri": "https://localhost:8080/"
        },
        "id": "quDZ3v3ZDPLR",
        "outputId": "2399d554-f897-4527-ed3d-f4faabaf4670"
      },
      "execution_count": 14,
      "outputs": [
        {
          "output_type": "stream",
          "name": "stdout",
          "text": [
            "[[[ 0  1]\n",
            "  [ 2  3]\n",
            "  [ 4  5]]\n",
            "\n",
            " [[ 6  7]\n",
            "  [ 8  9]\n",
            "  [10 11]]\n",
            "\n",
            " [[12 13]\n",
            "  [14 15]\n",
            "  [16 17]]]\n",
            "itemsize: 4\n"
          ]
        }
      ]
    },
    {
      "cell_type": "markdown",
      "source": [
        "##numpy array vs python list\n",
        "1. numpy faster\n",
        "2. convenient\n",
        "3. numpy less memory"
      ],
      "metadata": {
        "id": "p2KohXbAGSBG"
      }
    },
    {
      "cell_type": "code",
      "source": [
        "list_a = list(range(100))\n",
        "arr_11 = np.arange(100)"
      ],
      "metadata": {
        "id": "tRMBBh2CGP3s"
      },
      "execution_count": 15,
      "outputs": []
    },
    {
      "cell_type": "code",
      "source": [
        "import sys  # getsize of provides space occupy by an item in memory"
      ],
      "metadata": {
        "id": "_ZNA4gLAG2tc"
      },
      "execution_count": 16,
      "outputs": []
    },
    {
      "cell_type": "code",
      "source": [
        "print(\"memory occupy by list:\",sys.getsizeof(87)*len(list_a),\"bytes\")\n",
        "print(\"memory occupy by array:\", arr_11.itemsize*arr_11.size,\"bytes\")"
      ],
      "metadata": {
        "colab": {
          "base_uri": "https://localhost:8080/"
        },
        "id": "z8YaYRWmG6n5",
        "outputId": "8d9d4792-d0bd-408b-cc1e-e7ca17c35391"
      },
      "execution_count": 17,
      "outputs": [
        {
          "output_type": "stream",
          "name": "stdout",
          "text": [
            "memory occupy by list: 2800 bytes\n",
            "memory occupy by array: 800 bytes\n"
          ]
        }
      ]
    },
    {
      "cell_type": "markdown",
      "source": [
        "## indexing, slicing, iteration"
      ],
      "metadata": {
        "id": "TZUvTYs5ML9c"
      }
    },
    {
      "cell_type": "code",
      "source": [
        "arr12 = np.arange(27).reshape(3,3,3)\n",
        "arr12"
      ],
      "metadata": {
        "colab": {
          "base_uri": "https://localhost:8080/"
        },
        "id": "feoFBHW8MRhO",
        "outputId": "87b806a5-bb34-4975-8d33-53377bfa5b63"
      },
      "execution_count": 18,
      "outputs": [
        {
          "output_type": "execute_result",
          "data": {
            "text/plain": [
              "array([[[ 0,  1,  2],\n",
              "        [ 3,  4,  5],\n",
              "        [ 6,  7,  8]],\n",
              "\n",
              "       [[ 9, 10, 11],\n",
              "        [12, 13, 14],\n",
              "        [15, 16, 17]],\n",
              "\n",
              "       [[18, 19, 20],\n",
              "        [21, 22, 23],\n",
              "        [24, 25, 26]]])"
            ]
          },
          "metadata": {},
          "execution_count": 18
        }
      ]
    },
    {
      "cell_type": "code",
      "source": [
        "arr12[2]"
      ],
      "metadata": {
        "colab": {
          "base_uri": "https://localhost:8080/"
        },
        "id": "at71w_CuMpYf",
        "outputId": "34db5cf7-3e60-4951-e000-1778f4d776f8"
      },
      "execution_count": 19,
      "outputs": [
        {
          "output_type": "execute_result",
          "data": {
            "text/plain": [
              "array([[18, 19, 20],\n",
              "       [21, 22, 23],\n",
              "       [24, 25, 26]])"
            ]
          },
          "metadata": {},
          "execution_count": 19
        }
      ]
    },
    {
      "cell_type": "code",
      "source": [
        "arr12[2,1]"
      ],
      "metadata": {
        "colab": {
          "base_uri": "https://localhost:8080/"
        },
        "id": "nFY2dh8xNApJ",
        "outputId": "7c201394-cc71-4eb8-c46d-e2e835c7577c"
      },
      "execution_count": 20,
      "outputs": [
        {
          "output_type": "execute_result",
          "data": {
            "text/plain": [
              "array([21, 22, 23])"
            ]
          },
          "metadata": {},
          "execution_count": 20
        }
      ]
    },
    {
      "cell_type": "code",
      "source": [
        "arr12[2,1,2]"
      ],
      "metadata": {
        "colab": {
          "base_uri": "https://localhost:8080/"
        },
        "id": "M9ip-N7YNDOb",
        "outputId": "75569ddb-8aca-4171-8007-04c8623890da"
      },
      "execution_count": 21,
      "outputs": [
        {
          "output_type": "execute_result",
          "data": {
            "text/plain": [
              "23"
            ]
          },
          "metadata": {},
          "execution_count": 21
        }
      ]
    },
    {
      "cell_type": "code",
      "source": [
        "arr12[:,:,1]    # only second column items"
      ],
      "metadata": {
        "colab": {
          "base_uri": "https://localhost:8080/"
        },
        "id": "xdYHEDJTNWIU",
        "outputId": "f5ab50b5-10bc-4dcc-dced-4171eea7f425"
      },
      "execution_count": 22,
      "outputs": [
        {
          "output_type": "execute_result",
          "data": {
            "text/plain": [
              "array([[ 1,  4,  7],\n",
              "       [10, 13, 16],\n",
              "       [19, 22, 25]])"
            ]
          },
          "metadata": {},
          "execution_count": 22
        }
      ]
    },
    {
      "cell_type": "code",
      "source": [
        "arr12"
      ],
      "metadata": {
        "colab": {
          "base_uri": "https://localhost:8080/"
        },
        "id": "0fdLHsGRNl2r",
        "outputId": "2dfab9fe-fbe5-410a-ae0e-f21f736d5396"
      },
      "execution_count": 23,
      "outputs": [
        {
          "output_type": "execute_result",
          "data": {
            "text/plain": [
              "array([[[ 0,  1,  2],\n",
              "        [ 3,  4,  5],\n",
              "        [ 6,  7,  8]],\n",
              "\n",
              "       [[ 9, 10, 11],\n",
              "        [12, 13, 14],\n",
              "        [15, 16, 17]],\n",
              "\n",
              "       [[18, 19, 20],\n",
              "        [21, 22, 23],\n",
              "        [24, 25, 26]]])"
            ]
          },
          "metadata": {},
          "execution_count": 23
        }
      ]
    },
    {
      "cell_type": "code",
      "source": [
        "arr12[1:,1:,1:]"
      ],
      "metadata": {
        "colab": {
          "base_uri": "https://localhost:8080/"
        },
        "id": "-Jo_T8vhN8Ln",
        "outputId": "70be3a30-602d-4cef-cc36-5c51d63bce0d"
      },
      "execution_count": 24,
      "outputs": [
        {
          "output_type": "execute_result",
          "data": {
            "text/plain": [
              "array([[[13, 14],\n",
              "        [16, 17]],\n",
              "\n",
              "       [[22, 23],\n",
              "        [25, 26]]])"
            ]
          },
          "metadata": {},
          "execution_count": 24
        }
      ]
    },
    {
      "cell_type": "code",
      "source": [
        "arr12[1,1:,0::2]"
      ],
      "metadata": {
        "colab": {
          "base_uri": "https://localhost:8080/"
        },
        "id": "ms8CwhzdQe2r",
        "outputId": "58bdc0fd-5ce8-4053-fec6-7e1cbe62296a"
      },
      "execution_count": 25,
      "outputs": [
        {
          "output_type": "execute_result",
          "data": {
            "text/plain": [
              "array([[12, 14],\n",
              "       [15, 17]])"
            ]
          },
          "metadata": {},
          "execution_count": 25
        }
      ]
    },
    {
      "cell_type": "markdown",
      "source": [
        "###iteration"
      ],
      "metadata": {
        "id": "ONijzkMPRfGQ"
      }
    },
    {
      "cell_type": "code",
      "source": [
        "for i in arr12:\n",
        "    print(i)"
      ],
      "metadata": {
        "colab": {
          "base_uri": "https://localhost:8080/"
        },
        "id": "iSmjW1MWRep8",
        "outputId": "9d88bd92-8ab9-4ebe-fec5-2536609851bd"
      },
      "execution_count": 26,
      "outputs": [
        {
          "output_type": "stream",
          "name": "stdout",
          "text": [
            "[[0 1 2]\n",
            " [3 4 5]\n",
            " [6 7 8]]\n",
            "[[ 9 10 11]\n",
            " [12 13 14]\n",
            " [15 16 17]]\n",
            "[[18 19 20]\n",
            " [21 22 23]\n",
            " [24 25 26]]\n"
          ]
        }
      ]
    },
    {
      "cell_type": "code",
      "source": [
        "for i in np.nditer(arr12):\n",
        "    print(i)"
      ],
      "metadata": {
        "colab": {
          "base_uri": "https://localhost:8080/"
        },
        "id": "Jsxv2iILSFDo",
        "outputId": "ca6be51a-9705-4de8-bbd0-25f421c2cbdd"
      },
      "execution_count": 27,
      "outputs": [
        {
          "output_type": "stream",
          "name": "stdout",
          "text": [
            "0\n",
            "1\n",
            "2\n",
            "3\n",
            "4\n",
            "5\n",
            "6\n",
            "7\n",
            "8\n",
            "9\n",
            "10\n",
            "11\n",
            "12\n",
            "13\n",
            "14\n",
            "15\n",
            "16\n",
            "17\n",
            "18\n",
            "19\n",
            "20\n",
            "21\n",
            "22\n",
            "23\n",
            "24\n",
            "25\n",
            "26\n"
          ]
        }
      ]
    },
    {
      "cell_type": "markdown",
      "source": [
        "##numpy operations\n",
        "max, min, sum, product(prod), mean, median, std, var"
      ],
      "metadata": {
        "id": "b7gIAn_kdis5"
      }
    },
    {
      "cell_type": "code",
      "source": [
        "a1 = np.arange(6,18).reshape(4,3)\n",
        "a1"
      ],
      "metadata": {
        "colab": {
          "base_uri": "https://localhost:8080/"
        },
        "id": "CPSK4yw_SMG0",
        "outputId": "53d7d95a-95d4-415f-d385-265b8b128fec"
      },
      "execution_count": 28,
      "outputs": [
        {
          "output_type": "execute_result",
          "data": {
            "text/plain": [
              "array([[ 6,  7,  8],\n",
              "       [ 9, 10, 11],\n",
              "       [12, 13, 14],\n",
              "       [15, 16, 17]])"
            ]
          },
          "metadata": {},
          "execution_count": 28
        }
      ]
    },
    {
      "cell_type": "code",
      "source": [
        "print(\"maximum:\",a1.max())\n",
        "print(\"minimum:\",a1.min())\n",
        "print(\"sum:\",a1.sum())\n",
        "print(\"product:\",a1.prod())"
      ],
      "metadata": {
        "colab": {
          "base_uri": "https://localhost:8080/"
        },
        "id": "LVLwDUrVeRJK",
        "outputId": "2ef63b46-f061-4e26-d377-80550c5e82d3"
      },
      "execution_count": 29,
      "outputs": [
        {
          "output_type": "stream",
          "name": "stdout",
          "text": [
            "maximum: 17\n",
            "minimum: 6\n",
            "sum: 138\n",
            "product: 2964061900800\n"
          ]
        }
      ]
    },
    {
      "cell_type": "code",
      "source": [
        "print(\"collapse first dimension:\",a1.max(axis=0)) # row collapse\n",
        "print(\"collapse the second dimension:\",a1.max(axis=1))  # column collapse"
      ],
      "metadata": {
        "colab": {
          "base_uri": "https://localhost:8080/"
        },
        "id": "91pmoS_MeS8-",
        "outputId": "3cac7b58-518a-4d38-988a-ece70e09f0b5"
      },
      "execution_count": 30,
      "outputs": [
        {
          "output_type": "stream",
          "name": "stdout",
          "text": [
            "collapse first dimension: [15 16 17]\n",
            "collapse the second dimension: [ 8 11 14 17]\n"
          ]
        }
      ]
    },
    {
      "cell_type": "code",
      "source": [
        "a1.min(axis=0)"
      ],
      "metadata": {
        "colab": {
          "base_uri": "https://localhost:8080/"
        },
        "id": "uL0x1DY9ftQE",
        "outputId": "fb4b18c1-0cbe-4651-e98a-bbda9cd727e5"
      },
      "execution_count": 31,
      "outputs": [
        {
          "output_type": "execute_result",
          "data": {
            "text/plain": [
              "array([6, 7, 8])"
            ]
          },
          "metadata": {},
          "execution_count": 31
        }
      ]
    },
    {
      "cell_type": "code",
      "source": [
        "np.sum(a1, axis=0)  # row collapse"
      ],
      "metadata": {
        "colab": {
          "base_uri": "https://localhost:8080/"
        },
        "id": "_pGNCgNqf1eh",
        "outputId": "db2612cd-459b-443c-e41c-4fe6e77c55ba"
      },
      "execution_count": 32,
      "outputs": [
        {
          "output_type": "execute_result",
          "data": {
            "text/plain": [
              "array([42, 46, 50])"
            ]
          },
          "metadata": {},
          "execution_count": 32
        }
      ]
    },
    {
      "cell_type": "code",
      "source": [
        "np.sum(a1, axis=1) # column collapse"
      ],
      "metadata": {
        "colab": {
          "base_uri": "https://localhost:8080/"
        },
        "id": "KrVA5lwJgDR1",
        "outputId": "ad14acec-6c8f-403e-8cba-ada322ed615f"
      },
      "execution_count": 33,
      "outputs": [
        {
          "output_type": "execute_result",
          "data": {
            "text/plain": [
              "array([21, 30, 39, 48])"
            ]
          },
          "metadata": {},
          "execution_count": 33
        }
      ]
    },
    {
      "cell_type": "code",
      "source": [
        "np.mean(a1, axis=0)"
      ],
      "metadata": {
        "colab": {
          "base_uri": "https://localhost:8080/"
        },
        "id": "g-ckZoRrgTps",
        "outputId": "0b956419-e37a-4f97-d6e4-98d1aed3f3bd"
      },
      "execution_count": 34,
      "outputs": [
        {
          "output_type": "execute_result",
          "data": {
            "text/plain": [
              "array([10.5, 11.5, 12.5])"
            ]
          },
          "metadata": {},
          "execution_count": 34
        }
      ]
    },
    {
      "cell_type": "code",
      "source": [
        "np.median(a1, axis=1)"
      ],
      "metadata": {
        "colab": {
          "base_uri": "https://localhost:8080/"
        },
        "id": "bKOF0-WEgWuy",
        "outputId": "c92ee7e7-647d-4446-b8c3-30c7dc6e161c"
      },
      "execution_count": 35,
      "outputs": [
        {
          "output_type": "execute_result",
          "data": {
            "text/plain": [
              "array([ 7., 10., 13., 16.])"
            ]
          },
          "metadata": {},
          "execution_count": 35
        }
      ]
    },
    {
      "cell_type": "markdown",
      "source": [
        "## Reshaping Numpy array\n",
        "\n",
        "ravel, reshape, transpose, stacking, splitting\n",
        "\n",
        "\n",
        "\n",
        "\n",
        "\n"
      ],
      "metadata": {
        "id": "K2JuWA0025FX"
      }
    },
    {
      "cell_type": "code",
      "source": [
        "arr2 = np.arange(6,12).reshape(3,2)\n",
        "arr2"
      ],
      "metadata": {
        "colab": {
          "base_uri": "https://localhost:8080/"
        },
        "id": "ySPjYsiq02ja",
        "outputId": "ce381671-e00a-4aed-a564-66208f9e593d"
      },
      "execution_count": 36,
      "outputs": [
        {
          "output_type": "execute_result",
          "data": {
            "text/plain": [
              "array([[ 6,  7],\n",
              "       [ 8,  9],\n",
              "       [10, 11]])"
            ]
          },
          "metadata": {},
          "execution_count": 36
        }
      ]
    },
    {
      "cell_type": "code",
      "source": [
        "np.ravel(arr2)"
      ],
      "metadata": {
        "colab": {
          "base_uri": "https://localhost:8080/"
        },
        "id": "7rvZdJJM7tKf",
        "outputId": "53a026be-e94a-4c6e-a621-82c50a745c2e"
      },
      "execution_count": 37,
      "outputs": [
        {
          "output_type": "execute_result",
          "data": {
            "text/plain": [
              "array([ 6,  7,  8,  9, 10, 11])"
            ]
          },
          "metadata": {},
          "execution_count": 37
        }
      ]
    },
    {
      "cell_type": "code",
      "source": [
        "arr2.ravel()    # NumPy is used to create a flattened array (1D array) from a given array, whether it's a 1D, 2D, or higher-dimensional array."
      ],
      "metadata": {
        "colab": {
          "base_uri": "https://localhost:8080/"
        },
        "id": "89AaDJG13mXb",
        "outputId": "6c51dda2-5b70-47b7-f843-24881250cc98"
      },
      "execution_count": 38,
      "outputs": [
        {
          "output_type": "execute_result",
          "data": {
            "text/plain": [
              "array([ 6,  7,  8,  9, 10, 11])"
            ]
          },
          "metadata": {},
          "execution_count": 38
        }
      ]
    },
    {
      "cell_type": "code",
      "source": [
        "np.reshape(arr2, 6)"
      ],
      "metadata": {
        "colab": {
          "base_uri": "https://localhost:8080/"
        },
        "id": "oYw4PY6Y5lr8",
        "outputId": "8918e397-0b60-4878-d243-1d48e532aa70"
      },
      "execution_count": 39,
      "outputs": [
        {
          "output_type": "execute_result",
          "data": {
            "text/plain": [
              "array([ 6,  7,  8,  9, 10, 11])"
            ]
          },
          "metadata": {},
          "execution_count": 39
        }
      ]
    },
    {
      "cell_type": "code",
      "source": [
        "arr2.reshape(2,3)"
      ],
      "metadata": {
        "colab": {
          "base_uri": "https://localhost:8080/"
        },
        "id": "b7fGUHmD4bGv",
        "outputId": "9fdbc1cc-1c66-4db2-b7e7-07d0bd1e0354"
      },
      "execution_count": 40,
      "outputs": [
        {
          "output_type": "execute_result",
          "data": {
            "text/plain": [
              "array([[ 6,  7,  8],\n",
              "       [ 9, 10, 11]])"
            ]
          },
          "metadata": {},
          "execution_count": 40
        }
      ]
    },
    {
      "cell_type": "code",
      "source": [
        "arr2.transpose()    # change row into columns"
      ],
      "metadata": {
        "colab": {
          "base_uri": "https://localhost:8080/"
        },
        "id": "rymNqTeR48Kz",
        "outputId": "e6dd5dbd-f726-4ef8-cae9-57e644b8fd8f"
      },
      "execution_count": 41,
      "outputs": [
        {
          "output_type": "execute_result",
          "data": {
            "text/plain": [
              "array([[ 6,  8, 10],\n",
              "       [ 7,  9, 11]])"
            ]
          },
          "metadata": {},
          "execution_count": 41
        }
      ]
    },
    {
      "cell_type": "code",
      "source": [
        "arr3 = np.arange(6).reshape(3,2)\n",
        "print(arr3)"
      ],
      "metadata": {
        "colab": {
          "base_uri": "https://localhost:8080/"
        },
        "id": "roNQAnn85VqC",
        "outputId": "d765b4d8-fec9-42aa-dc6b-994562d7fe6c"
      },
      "execution_count": 42,
      "outputs": [
        {
          "output_type": "stream",
          "name": "stdout",
          "text": [
            "[[0 1]\n",
            " [2 3]\n",
            " [4 5]]\n"
          ]
        }
      ]
    },
    {
      "cell_type": "code",
      "source": [
        "a = np.array([[1,2,3],[4,5,6]])\n",
        "np.reshape(a, (3,2))"
      ],
      "metadata": {
        "colab": {
          "base_uri": "https://localhost:8080/"
        },
        "id": "G5ARltfL2LlL",
        "outputId": "af76cc92-4cae-4f00-a19f-b6763298d009"
      },
      "execution_count": 43,
      "outputs": [
        {
          "output_type": "execute_result",
          "data": {
            "text/plain": [
              "array([[1, 2],\n",
              "       [3, 4],\n",
              "       [5, 6]])"
            ]
          },
          "metadata": {},
          "execution_count": 43
        }
      ]
    },
    {
      "cell_type": "code",
      "source": [
        "np.hstack((arr2,arr3))  #  stack arrays in a horizontal sequence"
      ],
      "metadata": {
        "colab": {
          "base_uri": "https://localhost:8080/"
        },
        "id": "FHutW2Ia61KC",
        "outputId": "5eeb6aa3-7b38-487b-9dce-5e4cee5cc1c7"
      },
      "execution_count": 44,
      "outputs": [
        {
          "output_type": "execute_result",
          "data": {
            "text/plain": [
              "array([[ 6,  7,  0,  1],\n",
              "       [ 8,  9,  2,  3],\n",
              "       [10, 11,  4,  5]])"
            ]
          },
          "metadata": {},
          "execution_count": 44
        }
      ]
    },
    {
      "cell_type": "code",
      "source": [
        "np.vstack((arr2,arr3))  #  stack arrays in a vertical sequence"
      ],
      "metadata": {
        "colab": {
          "base_uri": "https://localhost:8080/"
        },
        "id": "HsWTeRYh64Ab",
        "outputId": "0a5a8f53-3311-4591-d81b-8ff6823189e4"
      },
      "execution_count": 45,
      "outputs": [
        {
          "output_type": "execute_result",
          "data": {
            "text/plain": [
              "array([[ 6,  7],\n",
              "       [ 8,  9],\n",
              "       [10, 11],\n",
              "       [ 0,  1],\n",
              "       [ 2,  3],\n",
              "       [ 4,  5]])"
            ]
          },
          "metadata": {},
          "execution_count": 45
        }
      ]
    },
    {
      "cell_type": "code",
      "source": [
        "arr3"
      ],
      "metadata": {
        "colab": {
          "base_uri": "https://localhost:8080/"
        },
        "id": "aS5zGVyh7hc6",
        "outputId": "4c8ea3b3-8a65-45cb-ba51-51510c7f1d97"
      },
      "execution_count": 46,
      "outputs": [
        {
          "output_type": "execute_result",
          "data": {
            "text/plain": [
              "array([[0, 1],\n",
              "       [2, 3],\n",
              "       [4, 5]])"
            ]
          },
          "metadata": {},
          "execution_count": 46
        }
      ]
    },
    {
      "cell_type": "code",
      "source": [
        "arr4 = np.arange(10,26).reshape(4,4)\n",
        "arr4"
      ],
      "metadata": {
        "colab": {
          "base_uri": "https://localhost:8080/"
        },
        "id": "byu0IDyk7ubO",
        "outputId": "e7cfc6ca-96a9-4fee-cf6c-588fcc058470"
      },
      "execution_count": 47,
      "outputs": [
        {
          "output_type": "execute_result",
          "data": {
            "text/plain": [
              "array([[10, 11, 12, 13],\n",
              "       [14, 15, 16, 17],\n",
              "       [18, 19, 20, 21],\n",
              "       [22, 23, 24, 25]])"
            ]
          },
          "metadata": {},
          "execution_count": 47
        }
      ]
    },
    {
      "cell_type": "code",
      "source": [
        "np.hsplit(arr4, 4)"
      ],
      "metadata": {
        "colab": {
          "base_uri": "https://localhost:8080/"
        },
        "id": "XNhThR-w7ODQ",
        "outputId": "2e173ef1-e674-4923-ddc2-b35ed3c7a294"
      },
      "execution_count": 48,
      "outputs": [
        {
          "output_type": "execute_result",
          "data": {
            "text/plain": [
              "[array([[10],\n",
              "        [14],\n",
              "        [18],\n",
              "        [22]]),\n",
              " array([[11],\n",
              "        [15],\n",
              "        [19],\n",
              "        [23]]),\n",
              " array([[12],\n",
              "        [16],\n",
              "        [20],\n",
              "        [24]]),\n",
              " array([[13],\n",
              "        [17],\n",
              "        [21],\n",
              "        [25]])]"
            ]
          },
          "metadata": {},
          "execution_count": 48
        }
      ]
    },
    {
      "cell_type": "code",
      "source": [
        "np.vsplit(arr4, 4)"
      ],
      "metadata": {
        "colab": {
          "base_uri": "https://localhost:8080/"
        },
        "id": "ndwm8NJ78i7K",
        "outputId": "e18ef330-08f2-4f99-cfbd-206bf142785d"
      },
      "execution_count": 49,
      "outputs": [
        {
          "output_type": "execute_result",
          "data": {
            "text/plain": [
              "[array([[10, 11, 12, 13]]),\n",
              " array([[14, 15, 16, 17]]),\n",
              " array([[18, 19, 20, 21]]),\n",
              " array([[22, 23, 24, 25]])]"
            ]
          },
          "metadata": {},
          "execution_count": 49
        }
      ]
    },
    {
      "cell_type": "code",
      "source": [
        "np.vsplit(arr4, 2)"
      ],
      "metadata": {
        "colab": {
          "base_uri": "https://localhost:8080/"
        },
        "id": "6LllSiwjNMY-",
        "outputId": "9a655a6f-199b-46b3-b4cd-0c2ff1cadcdd"
      },
      "execution_count": 50,
      "outputs": [
        {
          "output_type": "execute_result",
          "data": {
            "text/plain": [
              "[array([[10, 11, 12, 13],\n",
              "        [14, 15, 16, 17]]),\n",
              " array([[18, 19, 20, 21],\n",
              "        [22, 23, 24, 25]])]"
            ]
          },
          "metadata": {},
          "execution_count": 50
        }
      ]
    },
    {
      "cell_type": "markdown",
      "source": [
        "##Fancy indexing"
      ],
      "metadata": {
        "id": "x6s_84HW9DLI"
      }
    },
    {
      "cell_type": "code",
      "source": [
        "arr4"
      ],
      "metadata": {
        "colab": {
          "base_uri": "https://localhost:8080/"
        },
        "id": "0H6fIDak9H8Y",
        "outputId": "6374af78-f316-4430-c926-c1299c77b4db"
      },
      "execution_count": 51,
      "outputs": [
        {
          "output_type": "execute_result",
          "data": {
            "text/plain": [
              "array([[10, 11, 12, 13],\n",
              "       [14, 15, 16, 17],\n",
              "       [18, 19, 20, 21],\n",
              "       [22, 23, 24, 25]])"
            ]
          },
          "metadata": {},
          "execution_count": 51
        }
      ]
    },
    {
      "cell_type": "code",
      "source": [
        "arr4[[0,1,3]]   # get first, second and fourth row"
      ],
      "metadata": {
        "colab": {
          "base_uri": "https://localhost:8080/"
        },
        "id": "--NMJQ8C9ODU",
        "outputId": "06323008-3e84-4378-c84f-1a2ce57478b2"
      },
      "execution_count": 52,
      "outputs": [
        {
          "output_type": "execute_result",
          "data": {
            "text/plain": [
              "array([[10, 11, 12, 13],\n",
              "       [14, 15, 16, 17],\n",
              "       [22, 23, 24, 25]])"
            ]
          },
          "metadata": {},
          "execution_count": 52
        }
      ]
    },
    {
      "cell_type": "code",
      "source": [
        "arr4[:,[0,2,3]] # get first, third and fourth column"
      ],
      "metadata": {
        "colab": {
          "base_uri": "https://localhost:8080/"
        },
        "id": "gsL-bKwx93Z1",
        "outputId": "838d17d0-731f-43f4-e455-c5a171c8b9e7"
      },
      "execution_count": 53,
      "outputs": [
        {
          "output_type": "execute_result",
          "data": {
            "text/plain": [
              "array([[10, 12, 13],\n",
              "       [14, 16, 17],\n",
              "       [18, 20, 21],\n",
              "       [22, 24, 25]])"
            ]
          },
          "metadata": {},
          "execution_count": 53
        }
      ]
    },
    {
      "cell_type": "markdown",
      "source": [
        "##indexing with boolean array\n",
        "\n",
        "Boolean indexing in NumPy allows you to select elements from an array based on a boolean condition. It is a powerful and flexible way to filter arrays and extract the elements that meet certain criteria."
      ],
      "metadata": {
        "id": "qBreRqOw_Hqi"
      }
    },
    {
      "cell_type": "code",
      "source": [
        "arr5 = np.random.randint(1,100,size=20).reshape(4,5)\n",
        "arr5"
      ],
      "metadata": {
        "colab": {
          "base_uri": "https://localhost:8080/"
        },
        "id": "6-h3jcSA_GG3",
        "outputId": "fc0d698e-56a7-4229-9689-c6e7791ac4df"
      },
      "execution_count": 54,
      "outputs": [
        {
          "output_type": "execute_result",
          "data": {
            "text/plain": [
              "array([[13, 85, 49, 53, 73],\n",
              "       [83, 13, 29, 15, 29],\n",
              "       [54, 38,  1,  5, 15],\n",
              "       [67, 55, 37, 72, 36]])"
            ]
          },
          "metadata": {},
          "execution_count": 54
        }
      ]
    },
    {
      "cell_type": "code",
      "source": [
        "arr5 > 50   # each element is replaced by a boolean value indicating whether the element satisfies the condition."
      ],
      "metadata": {
        "colab": {
          "base_uri": "https://localhost:8080/"
        },
        "id": "m1749aSo_Ztk",
        "outputId": "3df946ef-3819-4525-bfb2-d4d303312aa2"
      },
      "execution_count": 55,
      "outputs": [
        {
          "output_type": "execute_result",
          "data": {
            "text/plain": [
              "array([[False,  True, False,  True,  True],\n",
              "       [ True, False, False, False, False],\n",
              "       [ True, False, False, False, False],\n",
              "       [ True,  True, False,  True, False]])"
            ]
          },
          "metadata": {},
          "execution_count": 55
        }
      ]
    },
    {
      "cell_type": "code",
      "source": [
        "arr5[arr5 > 50] # result will contain only the elements of arr5 that are greater than 50"
      ],
      "metadata": {
        "colab": {
          "base_uri": "https://localhost:8080/"
        },
        "id": "K-bDweVBABCe",
        "outputId": "54d9aca9-30e0-4491-bf22-7c3ddfbbd880"
      },
      "execution_count": 56,
      "outputs": [
        {
          "output_type": "execute_result",
          "data": {
            "text/plain": [
              "array([85, 53, 73, 83, 54, 67, 55, 72])"
            ]
          },
          "metadata": {},
          "execution_count": 56
        }
      ]
    },
    {
      "cell_type": "code",
      "source": [
        "arr5[(arr5>50 ) & (arr5 % 2==0)]    # & is bitwise and"
      ],
      "metadata": {
        "colab": {
          "base_uri": "https://localhost:8080/"
        },
        "id": "HmYVIxr5AgEI",
        "outputId": "96300806-f543-4e28-9a45-6ec8cdb1be8b"
      },
      "execution_count": 57,
      "outputs": [
        {
          "output_type": "execute_result",
          "data": {
            "text/plain": [
              "array([54, 72])"
            ]
          },
          "metadata": {},
          "execution_count": 57
        }
      ]
    },
    {
      "cell_type": "code",
      "source": [
        "arr5[(arr5>50 ) & (arr5 % 2==0)] = 0    # boolean masking\n",
        "arr5"
      ],
      "metadata": {
        "colab": {
          "base_uri": "https://localhost:8080/"
        },
        "id": "3ZiPBZovB2Mr",
        "outputId": "25879d13-c492-452d-e858-0683f3ec546d"
      },
      "execution_count": 58,
      "outputs": [
        {
          "output_type": "execute_result",
          "data": {
            "text/plain": [
              "array([[13, 85, 49, 53, 73],\n",
              "       [83, 13, 29, 15, 29],\n",
              "       [ 0, 38,  1,  5, 15],\n",
              "       [67, 55, 37,  0, 36]])"
            ]
          },
          "metadata": {},
          "execution_count": 58
        }
      ]
    },
    {
      "cell_type": "markdown",
      "source": [
        "##plotting graphs using numpy"
      ],
      "metadata": {
        "id": "_dRmvjeyCJgb"
      }
    },
    {
      "cell_type": "code",
      "source": [
        "x = np.linspace(-40,40,100)\n",
        "x.size"
      ],
      "metadata": {
        "colab": {
          "base_uri": "https://localhost:8080/"
        },
        "id": "CvzG-goECQO6",
        "outputId": "a42f9f0b-c04d-42bf-a824-a67988ab5100"
      },
      "execution_count": 59,
      "outputs": [
        {
          "output_type": "execute_result",
          "data": {
            "text/plain": [
              "100"
            ]
          },
          "metadata": {},
          "execution_count": 59
        }
      ]
    },
    {
      "cell_type": "code",
      "source": [
        "y = np.sin(x)\n",
        "y.size"
      ],
      "metadata": {
        "colab": {
          "base_uri": "https://localhost:8080/"
        },
        "id": "GGQRpApHCjSx",
        "outputId": "a84f6175-ed5e-4ed2-d4f9-d7efb345d12e"
      },
      "execution_count": 60,
      "outputs": [
        {
          "output_type": "execute_result",
          "data": {
            "text/plain": [
              "100"
            ]
          },
          "metadata": {},
          "execution_count": 60
        }
      ]
    },
    {
      "cell_type": "code",
      "source": [
        "import matplotlib.pyplot as plt"
      ],
      "metadata": {
        "id": "ZJvT6Tl7Ctpe"
      },
      "execution_count": 61,
      "outputs": []
    },
    {
      "cell_type": "code",
      "source": [
        "plt.plot(x,y)"
      ],
      "metadata": {
        "colab": {
          "base_uri": "https://localhost:8080/",
          "height": 447
        },
        "id": "QFAYzrkLC3Nx",
        "outputId": "19a89543-6c69-4e1e-d8b8-e577376ded33"
      },
      "execution_count": 62,
      "outputs": [
        {
          "output_type": "execute_result",
          "data": {
            "text/plain": [
              "[<matplotlib.lines.Line2D at 0x7d0774333e50>]"
            ]
          },
          "metadata": {},
          "execution_count": 62
        },
        {
          "output_type": "display_data",
          "data": {
            "text/plain": [
              "<Figure size 640x480 with 1 Axes>"
            ],
            "image/png": "[encoded data removed]"
          },
          "metadata": {}
        }
      ]
    },
    {
      "cell_type": "code",
      "source": [
        "y= x*x + 2*x + 6\n",
        "plt.plot(x,y)"
      ],
      "metadata": {
        "colab": {
          "base_uri": "https://localhost:8080/",
          "height": 448
        },
        "id": "nw4nsoQ7DPEG",
        "outputId": "94a5b6ba-4a50-4823-eef1-0b6b1e070d59"
      },
      "execution_count": 63,
      "outputs": [
        {
          "output_type": "execute_result",
          "data": {
            "text/plain": [
              "[<matplotlib.lines.Line2D at 0x7d07742a4c10>]"
            ]
          },
          "metadata": {},
          "execution_count": 63
        },
        {
          "output_type": "display_data",
          "data": {
            "text/plain": [
              "<Figure size 640x480 with 1 Axes>"
            ],
            "image/png": "[encoded data removed]"
          },
          "metadata": {}
        }
      ]
    },
    {
      "cell_type": "code",
      "source": [
        "x = np.linspace(-10,10, 100)    # sigmoid graph\n",
        "y = 1/(1+np.exp(-x))\n",
        "plt.plot(x,y)"
      ],
      "metadata": {
        "colab": {
          "base_uri": "https://localhost:8080/",
          "height": 447
        },
        "id": "h8FOlsVw2fxZ",
        "outputId": "e0f78791-4bb2-445b-b00d-318d3b632ccd"
      },
      "execution_count": 64,
      "outputs": [
        {
          "output_type": "execute_result",
          "data": {
            "text/plain": [
              "[<matplotlib.lines.Line2D at 0x7d077412d360>]"
            ]
          },
          "metadata": {},
          "execution_count": 64
        },
        {
          "output_type": "display_data",
          "data": {
            "text/plain": [
              "<Figure size 640x480 with 1 Axes>"
            ],
            "image/png": "[encoded data removed]"
          },
          "metadata": {}
        }
      ]
    },
    {
      "cell_type": "markdown",
      "source": [
        "##Broadcasting\n",
        "\n",
        "The broadcasting rule in NumPy follows these steps to determine if two arrays are compatible for broadcasting:\n",
        "\n",
        "1. If the arrays have a different number of dimensions, prepend the shape of the smaller array with 1s until both shapes have the same length.\n",
        "2. The two arrays are compatible for broadcasting if, for each dimension, the sizes are equal, or one of the sizes is 1.\n",
        "\n",
        "resulting array will have the shape that is the element-wise maximum of the shapes of the two input arrays.\n",
        "ex: <br>\n",
        "3d array: 256,256,3<br>\n",
        "1d array: 256,1 (element compared from right side)<br>\n",
        "result array: (256,256,3)\n",
        "\n",
        "<img src=\"https://jakevdp.github.io/PythonDataScienceHandbook/figures/02.05-broadcasting.png\">\n",
        "\n",
        "\n"
      ],
      "metadata": {
        "id": "94rcH83tDlBs"
      }
    },
    {
      "cell_type": "code",
      "source": [
        "a = np.array([[1, 2, 3], [4, 5, 6]])    # shape is (2, 3)\n",
        "b = np.array([10, 20, 30])  # shape is (3,)\n",
        "a + b"
      ],
      "metadata": {
        "colab": {
          "base_uri": "https://localhost:8080/"
        },
        "id": "BtnUEojDDoIV",
        "outputId": "3fd39eb7-2c2d-4f66-acd4-64a17ea5bd76"
      },
      "execution_count": 65,
      "outputs": [
        {
          "output_type": "execute_result",
          "data": {
            "text/plain": [
              "array([[11, 22, 33],\n",
              "       [14, 25, 36]])"
            ]
          },
          "metadata": {},
          "execution_count": 65
        }
      ]
    },
    {
      "cell_type": "markdown",
      "source": [
        "## working with mathematical formulas\n",
        "\n",
        "by using numpy we can create our function for formula's"
      ],
      "metadata": {
        "id": "ZqLsnKqrm0JA"
      }
    },
    {
      "cell_type": "code",
      "source": [
        "a = np.arange(10)\n",
        "np.sin(a)"
      ],
      "metadata": {
        "colab": {
          "base_uri": "https://localhost:8080/"
        },
        "id": "09WfRVdwoR9q",
        "outputId": "f9e74da4-5697-4bd5-ae69-e3da6f959238"
      },
      "execution_count": 66,
      "outputs": [
        {
          "output_type": "execute_result",
          "data": {
            "text/plain": [
              "array([ 0.        ,  0.84147098,  0.90929743,  0.14112001, -0.7568025 ,\n",
              "       -0.95892427, -0.2794155 ,  0.6569866 ,  0.98935825,  0.41211849])"
            ]
          },
          "metadata": {},
          "execution_count": 66
        }
      ]
    },
    {
      "cell_type": "code",
      "source": [
        "# sigmoid formula\n",
        "# s(x) = 1/(1 + e^(−x))\n",
        "\n",
        "def sigmoid(x):\n",
        "    return 1/(1+np.exp(-x))\n",
        "arr = np.arange(10)\n",
        "sigmoid(a)"
      ],
      "metadata": {
        "colab": {
          "base_uri": "https://localhost:8080/"
        },
        "id": "UJqsv5Kfm4YH",
        "outputId": "f8711a0f-e47f-44ff-fa5a-5187b0d38e4f"
      },
      "execution_count": 67,
      "outputs": [
        {
          "output_type": "execute_result",
          "data": {
            "text/plain": [
              "array([0.5       , 0.73105858, 0.88079708, 0.95257413, 0.98201379,\n",
              "       0.99330715, 0.99752738, 0.99908895, 0.99966465, 0.99987661])"
            ]
          },
          "metadata": {},
          "execution_count": 67
        }
      ]
    },
    {
      "cell_type": "code",
      "source": [
        "# mean squared error\n",
        "\n",
        "def MSE(y_true, y_pred):\n",
        "    return np.mean((y_true - y_pred)**2)\n",
        "\n",
        "y_true = np.array([1, 2, 3, 4, 5])\n",
        "y_pred = np.array([1.1, 2.1, 2.9, 4.2, 4.8])\n",
        "\n",
        "mse = MSE(y_true, y_pred)\n",
        "print(\"Mean Squared Error:\", mse)"
      ],
      "metadata": {
        "colab": {
          "base_uri": "https://localhost:8080/"
        },
        "id": "CqKTcvckssLn",
        "outputId": "ddc5a15b-3acb-4712-9eb5-3a7dcd4d43a1"
      },
      "execution_count": 68,
      "outputs": [
        {
          "output_type": "stream",
          "name": "stdout",
          "text": [
            "Mean Squared Error: 0.022000000000000037\n"
          ]
        }
      ]
    },
    {
      "cell_type": "markdown",
      "source": [
        "## make function for binary cross entropy\n",
        "<img src=\"https://cdn.analyticsvidhya.com/wp-content/uploads/2021/03/Screenshot-from-2021-03-03-11-33-29.png\">\n",
        "\n"
      ],
      "metadata": {
        "id": "CVBh65AEtobc"
      }
    },
    {
      "cell_type": "code",
      "source": [
        "def BCE(y_arr, p_arr):\n",
        "    return np.mean(-(y_arr*np.log(p_arr) + (1 - y_arr)*np.log(1-p_arr)))\n",
        "\n",
        "\n",
        "y = np.array([1,0,1,0,1])\n",
        "p = np.array([0.9, 0.1, 0.8, 0.2, 0.7])\n",
        "BCE(y,p)"
      ],
      "metadata": {
        "colab": {
          "base_uri": "https://localhost:8080/"
        },
        "id": "OWXrfv_Rtns7",
        "outputId": "7ca7b309-94d4-4a6f-e593-47b74d4e9015"
      },
      "execution_count": 69,
      "outputs": [
        {
          "output_type": "execute_result",
          "data": {
            "text/plain": [
              "0.20273661557656092"
            ]
          },
          "metadata": {},
          "execution_count": 69
        }
      ]
    },
    {
      "cell_type": "markdown",
      "source": [
        "## working with missing values"
      ],
      "metadata": {
        "id": "eI9IPpYryhMt"
      }
    },
    {
      "cell_type": "code",
      "source": [
        "a = np.array([1,2,3,4,np.nan,6])\n",
        "a"
      ],
      "metadata": {
        "colab": {
          "base_uri": "https://localhost:8080/"
        },
        "id": "DZE1ll2eyk8n",
        "outputId": "10ad4338-7023-4766-f77e-758eb72c6bb4"
      },
      "execution_count": 70,
      "outputs": [
        {
          "output_type": "execute_result",
          "data": {
            "text/plain": [
              "array([ 1.,  2.,  3.,  4., nan,  6.])"
            ]
          },
          "metadata": {},
          "execution_count": 70
        }
      ]
    },
    {
      "cell_type": "code",
      "source": [
        "np.isnan(a)"
      ],
      "metadata": {
        "colab": {
          "base_uri": "https://localhost:8080/"
        },
        "id": "j-4h-QQczP5_",
        "outputId": "1f57b4c9-b167-4969-ef3a-48bd34b4b6f1"
      },
      "execution_count": 71,
      "outputs": [
        {
          "output_type": "execute_result",
          "data": {
            "text/plain": [
              "array([False, False, False, False,  True, False])"
            ]
          },
          "metadata": {},
          "execution_count": 71
        }
      ]
    },
    {
      "cell_type": "code",
      "source": [
        "a[~ np.isnan(a)] # ~ is bitwise \"not\" operator, this will give all those values which are not missing"
      ],
      "metadata": {
        "colab": {
          "base_uri": "https://localhost:8080/"
        },
        "id": "7Bes-Fm5ziN6",
        "outputId": "1fba0066-27a4-4d58-84c9-bd395be9ecc8"
      },
      "execution_count": 72,
      "outputs": [
        {
          "output_type": "execute_result",
          "data": {
            "text/plain": [
              "array([1., 2., 3., 4., 6.])"
            ]
          },
          "metadata": {},
          "execution_count": 72
        }
      ]
    },
    {
      "cell_type": "markdown",
      "source": [
        "# NumPy additional Tricks"
      ],
      "metadata": {
        "id": "WYNlO-fD600V"
      }
    },
    {
      "cell_type": "code",
      "source": [
        "b = np.random.randint(1,100, (6,4))\n",
        "b"
      ],
      "metadata": {
        "colab": {
          "base_uri": "https://localhost:8080/"
        },
        "id": "8q1rCT4C7a6z",
        "outputId": "0b245dcb-df19-452b-dc52-78cdf5017f93"
      },
      "execution_count": 73,
      "outputs": [
        {
          "output_type": "execute_result",
          "data": {
            "text/plain": [
              "array([[ 1, 63, 88, 76],\n",
              "       [39, 14,  3, 48],\n",
              "       [31, 16, 50, 83],\n",
              "       [80, 63, 84, 57],\n",
              "       [12, 70, 20, 78],\n",
              "       [59, 88, 16, 77]])"
            ]
          },
          "metadata": {},
          "execution_count": 73
        }
      ]
    },
    {
      "cell_type": "markdown",
      "source": [
        "## np.sort()\n",
        "\n",
        "sort in ascending order"
      ],
      "metadata": {
        "id": "NwvUTwk_7T4w"
      }
    },
    {
      "cell_type": "code",
      "source": [
        "np.sort(b)  # by default axis=1 second axis(column) collapse"
      ],
      "metadata": {
        "colab": {
          "base_uri": "https://localhost:8080/"
        },
        "id": "MB0aNeTr66CB",
        "outputId": "c431b65e-6f4b-474b-d4bd-325768aee34e"
      },
      "execution_count": 74,
      "outputs": [
        {
          "output_type": "execute_result",
          "data": {
            "text/plain": [
              "array([[ 1, 63, 76, 88],\n",
              "       [ 3, 14, 39, 48],\n",
              "       [16, 31, 50, 83],\n",
              "       [57, 63, 80, 84],\n",
              "       [12, 20, 70, 78],\n",
              "       [16, 59, 77, 88]])"
            ]
          },
          "metadata": {},
          "execution_count": 74
        }
      ]
    },
    {
      "cell_type": "code",
      "source": [
        "np.sort(b, axis=0)  # first axis collapse"
      ],
      "metadata": {
        "colab": {
          "base_uri": "https://localhost:8080/"
        },
        "id": "-CP1acJA9yt1",
        "outputId": "47b17ade-d3d0-4e02-cd96-fe1a4dedeb49"
      },
      "execution_count": 75,
      "outputs": [
        {
          "output_type": "execute_result",
          "data": {
            "text/plain": [
              "array([[ 1, 14,  3, 48],\n",
              "       [12, 16, 16, 57],\n",
              "       [31, 63, 20, 76],\n",
              "       [39, 63, 50, 77],\n",
              "       [59, 70, 84, 78],\n",
              "       [80, 88, 88, 83]])"
            ]
          },
          "metadata": {},
          "execution_count": 75
        }
      ]
    },
    {
      "cell_type": "code",
      "source": [
        "np.sort(b)[::-1]    # reverse"
      ],
      "metadata": {
        "colab": {
          "base_uri": "https://localhost:8080/"
        },
        "id": "jhouCrwO972L",
        "outputId": "b0cc65df-d728-48aa-dce8-ca72a7eca79b"
      },
      "execution_count": 76,
      "outputs": [
        {
          "output_type": "execute_result",
          "data": {
            "text/plain": [
              "array([[16, 59, 77, 88],\n",
              "       [12, 20, 70, 78],\n",
              "       [57, 63, 80, 84],\n",
              "       [16, 31, 50, 83],\n",
              "       [ 3, 14, 39, 48],\n",
              "       [ 1, 63, 76, 88]])"
            ]
          },
          "metadata": {},
          "execution_count": 76
        }
      ]
    },
    {
      "cell_type": "markdown",
      "source": [
        "##np.append()\n",
        "\n",
        "append values along mentioned axis at the end of array"
      ],
      "metadata": {
        "id": "-u2hGWn5-hrH"
      }
    },
    {
      "cell_type": "code",
      "source": [
        "np.append(b, np.ones((b.shape[0],1)), axis=1)"
      ],
      "metadata": {
        "colab": {
          "base_uri": "https://localhost:8080/"
        },
        "id": "bTKHWmtQ_-u7",
        "outputId": "b6b52758-b681-4ef2-b66d-95e25fd59c92"
      },
      "execution_count": 77,
      "outputs": [
        {
          "output_type": "execute_result",
          "data": {
            "text/plain": [
              "array([[ 1., 63., 88., 76.,  1.],\n",
              "       [39., 14.,  3., 48.,  1.],\n",
              "       [31., 16., 50., 83.,  1.],\n",
              "       [80., 63., 84., 57.,  1.],\n",
              "       [12., 70., 20., 78.,  1.],\n",
              "       [59., 88., 16., 77.,  1.]])"
            ]
          },
          "metadata": {},
          "execution_count": 77
        }
      ]
    },
    {
      "cell_type": "code",
      "source": [
        "np.append(b, np.ones((1,b.shape[1])), axis=0)"
      ],
      "metadata": {
        "colab": {
          "base_uri": "https://localhost:8080/"
        },
        "id": "sOFauAbGASwJ",
        "outputId": "b0c5b61f-e911-490d-a727-a5c6b2154b19"
      },
      "execution_count": 78,
      "outputs": [
        {
          "output_type": "execute_result",
          "data": {
            "text/plain": [
              "array([[ 1., 63., 88., 76.],\n",
              "       [39., 14.,  3., 48.],\n",
              "       [31., 16., 50., 83.],\n",
              "       [80., 63., 84., 57.],\n",
              "       [12., 70., 20., 78.],\n",
              "       [59., 88., 16., 77.],\n",
              "       [ 1.,  1.,  1.,  1.]])"
            ]
          },
          "metadata": {},
          "execution_count": 78
        }
      ]
    },
    {
      "cell_type": "code",
      "source": [
        "np.append(b, np.random.randint(10,20, (b.shape[0],1)), axis=1)"
      ],
      "metadata": {
        "colab": {
          "base_uri": "https://localhost:8080/"
        },
        "id": "LnmyfMyf-jwi",
        "outputId": "5f9857a2-f66d-46f3-abbc-c9ede3b3890a"
      },
      "execution_count": 79,
      "outputs": [
        {
          "output_type": "execute_result",
          "data": {
            "text/plain": [
              "array([[ 1, 63, 88, 76, 14],\n",
              "       [39, 14,  3, 48, 11],\n",
              "       [31, 16, 50, 83, 11],\n",
              "       [80, 63, 84, 57, 16],\n",
              "       [12, 70, 20, 78, 10],\n",
              "       [59, 88, 16, 77, 14]])"
            ]
          },
          "metadata": {},
          "execution_count": 79
        }
      ]
    },
    {
      "cell_type": "markdown",
      "source": [
        "## np.concatenate()\n",
        "\n",
        "concatenates a sequence of arrays alog an existing axis<br>\n",
        "similar to vstack and hstack"
      ],
      "metadata": {
        "id": "cRFtuzUwBXXj"
      }
    },
    {
      "cell_type": "code",
      "source": [
        "c = np.arange(6).reshape(2,3)\n",
        "d = np.arange(6,12).reshape(2,3)\n",
        "print(c)\n",
        "print(d)"
      ],
      "metadata": {
        "colab": {
          "base_uri": "https://localhost:8080/"
        },
        "id": "YD6IAoHGBmfg",
        "outputId": "0e8fdbe9-bc11-4f95-de91-2b507ec4899a"
      },
      "execution_count": 80,
      "outputs": [
        {
          "output_type": "stream",
          "name": "stdout",
          "text": [
            "[[0 1 2]\n",
            " [3 4 5]]\n",
            "[[ 6  7  8]\n",
            " [ 9 10 11]]\n"
          ]
        }
      ]
    },
    {
      "cell_type": "code",
      "source": [
        "np.concatenate((c,d))   # default axis=0"
      ],
      "metadata": {
        "colab": {
          "base_uri": "https://localhost:8080/"
        },
        "id": "TxM0uZAyCSD5",
        "outputId": "b1301ef1-64df-400e-ce41-eaa9dca8a812"
      },
      "execution_count": 81,
      "outputs": [
        {
          "output_type": "execute_result",
          "data": {
            "text/plain": [
              "array([[ 0,  1,  2],\n",
              "       [ 3,  4,  5],\n",
              "       [ 6,  7,  8],\n",
              "       [ 9, 10, 11]])"
            ]
          },
          "metadata": {},
          "execution_count": 81
        }
      ]
    },
    {
      "cell_type": "code",
      "source": [
        "np.concatenate((c,d), axis=1)"
      ],
      "metadata": {
        "colab": {
          "base_uri": "https://localhost:8080/"
        },
        "id": "vbGo9HB6CjHl",
        "outputId": "435f9015-20e3-40c7-f36a-485cb9c4a011"
      },
      "execution_count": 82,
      "outputs": [
        {
          "output_type": "execute_result",
          "data": {
            "text/plain": [
              "array([[ 0,  1,  2,  6,  7,  8],\n",
              "       [ 3,  4,  5,  9, 10, 11]])"
            ]
          },
          "metadata": {},
          "execution_count": 82
        }
      ]
    },
    {
      "cell_type": "markdown",
      "source": [
        "##np.unique()\n",
        "\n",
        "get the unique values from an array"
      ],
      "metadata": {
        "id": "s0g5eqY3DcQA"
      }
    },
    {
      "cell_type": "code",
      "source": [
        "e = np.array([1,2,2,3,3,2,1,3,4,5,4,3,6,6,7])\n",
        "f = np.array([[1,2,3,5,6], [1,2,4,6,7]])\n",
        "print(e)\n",
        "print(f)"
      ],
      "metadata": {
        "colab": {
          "base_uri": "https://localhost:8080/"
        },
        "id": "8DK3Jc60Dn-Y",
        "outputId": "571bec08-b062-4ce1-d6ad-98dd2a8d107c"
      },
      "execution_count": 83,
      "outputs": [
        {
          "output_type": "stream",
          "name": "stdout",
          "text": [
            "[1 2 2 3 3 2 1 3 4 5 4 3 6 6 7]\n",
            "[[1 2 3 5 6]\n",
            " [1 2 4 6 7]]\n"
          ]
        }
      ]
    },
    {
      "cell_type": "code",
      "source": [
        "np.unique(e)"
      ],
      "metadata": {
        "colab": {
          "base_uri": "https://localhost:8080/"
        },
        "id": "KTnoiWZjD8no",
        "outputId": "13c8231c-ffa7-494e-af11-68ac52dc9fe4"
      },
      "execution_count": 84,
      "outputs": [
        {
          "output_type": "execute_result",
          "data": {
            "text/plain": [
              "array([1, 2, 3, 4, 5, 6, 7])"
            ]
          },
          "metadata": {},
          "execution_count": 84
        }
      ]
    },
    {
      "cell_type": "code",
      "source": [
        "np.unique(f)"
      ],
      "metadata": {
        "colab": {
          "base_uri": "https://localhost:8080/"
        },
        "id": "9TsoX4AyEOol",
        "outputId": "6cc8a0a5-fb97-4184-8c76-715dd55fe874"
      },
      "execution_count": 85,
      "outputs": [
        {
          "output_type": "execute_result",
          "data": {
            "text/plain": [
              "array([1, 2, 3, 4, 5, 6, 7])"
            ]
          },
          "metadata": {},
          "execution_count": 85
        }
      ]
    },
    {
      "cell_type": "markdown",
      "source": [
        "##np.expand_dims()\n",
        "\n",
        "get expanded dimension of an array"
      ],
      "metadata": {
        "id": "dSbNU8RlE-Xv"
      }
    },
    {
      "cell_type": "code",
      "source": [
        "arr = np.random.randint(10,20, (8))\n",
        "print(arr)\n",
        "print(arr.shape)"
      ],
      "metadata": {
        "colab": {
          "base_uri": "https://localhost:8080/"
        },
        "id": "W0K07cKQFkv_",
        "outputId": "e4fab427-1488-4727-84a9-64df52486248"
      },
      "execution_count": 86,
      "outputs": [
        {
          "output_type": "stream",
          "name": "stdout",
          "text": [
            "[15 13 16 16 13 19 10 12]\n",
            "(8,)\n"
          ]
        }
      ]
    },
    {
      "cell_type": "code",
      "source": [
        "new_arr = np.expand_dims(arr, axis=0)\n",
        "print(new_arr)\n",
        "new_arr.shape"
      ],
      "metadata": {
        "colab": {
          "base_uri": "https://localhost:8080/"
        },
        "id": "PILm2vrnF36j",
        "outputId": "8c7015cf-5b02-4446-b8df-f3b0159329d4"
      },
      "execution_count": 87,
      "outputs": [
        {
          "output_type": "stream",
          "name": "stdout",
          "text": [
            "[[15 13 16 16 13 19 10 12]]\n"
          ]
        },
        {
          "output_type": "execute_result",
          "data": {
            "text/plain": [
              "(1, 8)"
            ]
          },
          "metadata": {},
          "execution_count": 87
        }
      ]
    },
    {
      "cell_type": "code",
      "source": [
        "new_arr1 = np.expand_dims(arr, axis=1)\n",
        "print(new_arr1)\n",
        "new_arr1.shape"
      ],
      "metadata": {
        "colab": {
          "base_uri": "https://localhost:8080/"
        },
        "id": "olMMDU2fGK3m",
        "outputId": "abce4601-59e8-42c6-8485-274967f4e2ca"
      },
      "execution_count": 88,
      "outputs": [
        {
          "output_type": "stream",
          "name": "stdout",
          "text": [
            "[[15]\n",
            " [13]\n",
            " [16]\n",
            " [16]\n",
            " [13]\n",
            " [19]\n",
            " [10]\n",
            " [12]]\n"
          ]
        },
        {
          "output_type": "execute_result",
          "data": {
            "text/plain": [
              "(8, 1)"
            ]
          },
          "metadata": {},
          "execution_count": 88
        }
      ]
    },
    {
      "cell_type": "markdown",
      "source": [
        "## np.where()\n",
        "\n",
        "returns indices of elements in an input array where the given condition is satisfied"
      ],
      "metadata": {
        "id": "stT4LCGTIfXQ"
      }
    },
    {
      "cell_type": "code",
      "source": [
        "arr = np.random.randint(10,20,10)\n",
        "arr"
      ],
      "metadata": {
        "colab": {
          "base_uri": "https://localhost:8080/"
        },
        "id": "Co4SCGWzIsA9",
        "outputId": "074063e1-1bf3-4284-ec3f-c663eddb446c"
      },
      "execution_count": 89,
      "outputs": [
        {
          "output_type": "execute_result",
          "data": {
            "text/plain": [
              "array([17, 11, 15, 18, 10, 15, 14, 17, 12, 19])"
            ]
          },
          "metadata": {},
          "execution_count": 89
        }
      ]
    },
    {
      "cell_type": "code",
      "source": [
        "np.where(arr>15)"
      ],
      "metadata": {
        "colab": {
          "base_uri": "https://localhost:8080/"
        },
        "id": "LbJNfWg5JkBO",
        "outputId": "eba24ac7-4ba4-44b9-83cb-5e9e6535fadb"
      },
      "execution_count": 90,
      "outputs": [
        {
          "output_type": "execute_result",
          "data": {
            "text/plain": [
              "(array([0, 3, 7, 9]),)"
            ]
          },
          "metadata": {},
          "execution_count": 90
        }
      ]
    },
    {
      "cell_type": "code",
      "source": [
        "np.where(arr>15,500,arr)     # np.where(condition, true hone par kya, false hone par kya)"
      ],
      "metadata": {
        "colab": {
          "base_uri": "https://localhost:8080/"
        },
        "id": "bIXcUrL9MNm3",
        "outputId": "1a63a435-a424-4dd1-edb8-3c129924905e"
      },
      "execution_count": 91,
      "outputs": [
        {
          "output_type": "execute_result",
          "data": {
            "text/plain": [
              "array([500,  11,  15, 500,  10,  15,  14, 500,  12, 500])"
            ]
          },
          "metadata": {},
          "execution_count": 91
        }
      ]
    },
    {
      "cell_type": "code",
      "source": [
        "arr1 = np.random.randint(10,25,(3,4))\n",
        "arr1"
      ],
      "metadata": {
        "colab": {
          "base_uri": "https://localhost:8080/"
        },
        "id": "jxKNoRdrKCy1",
        "outputId": "9fbc1a73-dcbb-4906-da2b-28daa41c5b8d"
      },
      "execution_count": 92,
      "outputs": [
        {
          "output_type": "execute_result",
          "data": {
            "text/plain": [
              "array([[12, 17, 15, 10],\n",
              "       [10, 21, 23, 20],\n",
              "       [14, 14, 20, 16]])"
            ]
          },
          "metadata": {},
          "execution_count": 92
        }
      ]
    },
    {
      "cell_type": "code",
      "source": [
        "np.where(arr1>20)"
      ],
      "metadata": {
        "colab": {
          "base_uri": "https://localhost:8080/"
        },
        "id": "ZgxguoqRKL5G",
        "outputId": "3493e967-8e77-4bc1-8a8c-72877ebf5c59"
      },
      "execution_count": 93,
      "outputs": [
        {
          "output_type": "execute_result",
          "data": {
            "text/plain": [
              "(array([1, 1]), array([1, 2]))"
            ]
          },
          "metadata": {},
          "execution_count": 93
        }
      ]
    },
    {
      "cell_type": "code",
      "source": [
        "np.where(arr1>20, 1000, arr1)   # np.where(condition, true hone par kya, false hone par kya)"
      ],
      "metadata": {
        "colab": {
          "base_uri": "https://localhost:8080/"
        },
        "id": "u3Ej6zLLL6Gf",
        "outputId": "30ed6283-390c-486c-ed38-3ee54092a7ed"
      },
      "execution_count": 94,
      "outputs": [
        {
          "output_type": "execute_result",
          "data": {
            "text/plain": [
              "array([[  12,   17,   15,   10],\n",
              "       [  10, 1000, 1000,   20],\n",
              "       [  14,   14,   20,   16]])"
            ]
          },
          "metadata": {},
          "execution_count": 94
        }
      ]
    },
    {
      "cell_type": "markdown",
      "source": [
        "## np.argmax() and np.argmin()\n",
        "\n",
        "get index number of maximum/minimum element of the array in particular axis"
      ],
      "metadata": {
        "id": "WOpcRZQjNN1m"
      }
    },
    {
      "cell_type": "code",
      "source": [
        "print(arr1)\n",
        "np.argmax(arr1, axis=0)"
      ],
      "metadata": {
        "colab": {
          "base_uri": "https://localhost:8080/"
        },
        "id": "4PYR-k3KNbRt",
        "outputId": "0ea029be-22ff-47a4-ff2b-64caf860efae"
      },
      "execution_count": 95,
      "outputs": [
        {
          "output_type": "stream",
          "name": "stdout",
          "text": [
            "[[12 17 15 10]\n",
            " [10 21 23 20]\n",
            " [14 14 20 16]]\n"
          ]
        },
        {
          "output_type": "execute_result",
          "data": {
            "text/plain": [
              "array([2, 1, 1, 1])"
            ]
          },
          "metadata": {},
          "execution_count": 95
        }
      ]
    },
    {
      "cell_type": "code",
      "source": [
        "np.max(arr1)"
      ],
      "metadata": {
        "colab": {
          "base_uri": "https://localhost:8080/"
        },
        "id": "IDzAQAgdO4uG",
        "outputId": "b312b24b-47a9-44ab-ff90-718074d2f922"
      },
      "execution_count": 96,
      "outputs": [
        {
          "output_type": "execute_result",
          "data": {
            "text/plain": [
              "23"
            ]
          },
          "metadata": {},
          "execution_count": 96
        }
      ]
    },
    {
      "cell_type": "code",
      "source": [
        "np.argmax(arr1) # array get flattened first if no axis is provided"
      ],
      "metadata": {
        "colab": {
          "base_uri": "https://localhost:8080/"
        },
        "id": "s_kp-aKdO9qV",
        "outputId": "2c92b44f-2d56-4381-d6af-2c1b03f83906"
      },
      "execution_count": 97,
      "outputs": [
        {
          "output_type": "execute_result",
          "data": {
            "text/plain": [
              "6"
            ]
          },
          "metadata": {},
          "execution_count": 97
        }
      ]
    },
    {
      "cell_type": "code",
      "source": [
        "np.argmax(arr1, axis=1)"
      ],
      "metadata": {
        "colab": {
          "base_uri": "https://localhost:8080/"
        },
        "id": "G4p5aecTN0BH",
        "outputId": "63ad321b-b243-4953-eecc-6762a714f364"
      },
      "execution_count": 98,
      "outputs": [
        {
          "output_type": "execute_result",
          "data": {
            "text/plain": [
              "array([1, 2, 2])"
            ]
          },
          "metadata": {},
          "execution_count": 98
        }
      ]
    },
    {
      "cell_type": "code",
      "source": [
        "np.argmin(arr1,axis=1)"
      ],
      "metadata": {
        "colab": {
          "base_uri": "https://localhost:8080/"
        },
        "id": "WWeK1ac8QiBr",
        "outputId": "832da9c3-dc07-4978-de43-b71ee17837b7"
      },
      "execution_count": 99,
      "outputs": [
        {
          "output_type": "execute_result",
          "data": {
            "text/plain": [
              "array([3, 0, 0])"
            ]
          },
          "metadata": {},
          "execution_count": 99
        }
      ]
    },
    {
      "cell_type": "markdown",
      "source": [
        "## np.cumsum() and np.cumprod()\n",
        "\n",
        "cumulative sum/product along specified axis"
      ],
      "metadata": {
        "id": "gWF61DCpShs6"
      }
    },
    {
      "cell_type": "code",
      "source": [
        "arr"
      ],
      "metadata": {
        "colab": {
          "base_uri": "https://localhost:8080/"
        },
        "id": "a0XOJ6klSucc",
        "outputId": "48999458-5a4b-4277-de2f-ed541934a4a5"
      },
      "execution_count": 100,
      "outputs": [
        {
          "output_type": "execute_result",
          "data": {
            "text/plain": [
              "array([17, 11, 15, 18, 10, 15, 14, 17, 12, 19])"
            ]
          },
          "metadata": {},
          "execution_count": 100
        }
      ]
    },
    {
      "cell_type": "code",
      "source": [
        "np.cumsum(arr)"
      ],
      "metadata": {
        "colab": {
          "base_uri": "https://localhost:8080/"
        },
        "id": "-c3YDsQoSywb",
        "outputId": "c09120a2-f3de-4e56-ab07-dbcd478365a8"
      },
      "execution_count": 101,
      "outputs": [
        {
          "output_type": "execute_result",
          "data": {
            "text/plain": [
              "array([ 17,  28,  43,  61,  71,  86, 100, 117, 129, 148])"
            ]
          },
          "metadata": {},
          "execution_count": 101
        }
      ]
    },
    {
      "cell_type": "code",
      "source": [
        "arr1"
      ],
      "metadata": {
        "colab": {
          "base_uri": "https://localhost:8080/"
        },
        "id": "sJmZZGLLSpNo",
        "outputId": "0ed5c18f-7a84-40cc-e82d-94039c63f3f0"
      },
      "execution_count": 102,
      "outputs": [
        {
          "output_type": "execute_result",
          "data": {
            "text/plain": [
              "array([[12, 17, 15, 10],\n",
              "       [10, 21, 23, 20],\n",
              "       [14, 14, 20, 16]])"
            ]
          },
          "metadata": {},
          "execution_count": 102
        }
      ]
    },
    {
      "cell_type": "code",
      "source": [
        "np.cumsum(arr1) # flattened the array first, if no axis provided"
      ],
      "metadata": {
        "colab": {
          "base_uri": "https://localhost:8080/"
        },
        "id": "A9CTZCGHSr30",
        "outputId": "98a368eb-34d4-4bb2-f8e7-30722ee1f236"
      },
      "execution_count": 103,
      "outputs": [
        {
          "output_type": "execute_result",
          "data": {
            "text/plain": [
              "array([ 12,  29,  44,  54,  64,  85, 108, 128, 142, 156, 176, 192])"
            ]
          },
          "metadata": {},
          "execution_count": 103
        }
      ]
    },
    {
      "cell_type": "code",
      "source": [
        "np.cumsum(arr1, axis=1)"
      ],
      "metadata": {
        "colab": {
          "base_uri": "https://localhost:8080/"
        },
        "id": "as4jM6yeTCWj",
        "outputId": "85fccf88-fc56-4d4d-b7b2-7771d4f12301"
      },
      "execution_count": 104,
      "outputs": [
        {
          "output_type": "execute_result",
          "data": {
            "text/plain": [
              "array([[12, 29, 44, 54],\n",
              "       [10, 31, 54, 74],\n",
              "       [14, 28, 48, 64]])"
            ]
          },
          "metadata": {},
          "execution_count": 104
        }
      ]
    },
    {
      "cell_type": "code",
      "source": [
        "np.cumsum(arr1, axis=0)"
      ],
      "metadata": {
        "colab": {
          "base_uri": "https://localhost:8080/"
        },
        "id": "7YXPzw5VTJFB",
        "outputId": "7a306f5b-08f1-4ca5-f843-ddc1d80817e5"
      },
      "execution_count": 105,
      "outputs": [
        {
          "output_type": "execute_result",
          "data": {
            "text/plain": [
              "array([[12, 17, 15, 10],\n",
              "       [22, 38, 38, 30],\n",
              "       [36, 52, 58, 46]])"
            ]
          },
          "metadata": {},
          "execution_count": 105
        }
      ]
    },
    {
      "cell_type": "markdown",
      "source": [
        "## np.percentile()\n",
        "\n",
        "compute the n-th percentile of the given data along specified axis<br>\n",
        "percentile = (no. of values fall under n / total values) * 100"
      ],
      "metadata": {
        "id": "4slKrm-cUdu5"
      }
    },
    {
      "cell_type": "code",
      "source": [
        "arr\n"
      ],
      "metadata": {
        "colab": {
          "base_uri": "https://localhost:8080/"
        },
        "id": "DTOaTyLQUkGB",
        "outputId": "d8a43a27-1483-4661-f2cc-8f46cfb3881f"
      },
      "execution_count": 106,
      "outputs": [
        {
          "output_type": "execute_result",
          "data": {
            "text/plain": [
              "array([17, 11, 15, 18, 10, 15, 14, 17, 12, 19])"
            ]
          },
          "metadata": {},
          "execution_count": 106
        }
      ]
    },
    {
      "cell_type": "code",
      "source": [
        "np.percentile(arr, 100) # 100 percentile means maximum value"
      ],
      "metadata": {
        "colab": {
          "base_uri": "https://localhost:8080/"
        },
        "id": "eK7lMFuLVdP5",
        "outputId": "cc43b419-542a-4862-9202-eaaa0705190e"
      },
      "execution_count": 107,
      "outputs": [
        {
          "output_type": "execute_result",
          "data": {
            "text/plain": [
              "19.0"
            ]
          },
          "metadata": {},
          "execution_count": 107
        }
      ]
    },
    {
      "cell_type": "code",
      "source": [
        "np.percentile(arr, 0)   # 0 percentile means minimum value"
      ],
      "metadata": {
        "colab": {
          "base_uri": "https://localhost:8080/"
        },
        "id": "n5EuDTlGVilS",
        "outputId": "7c73d27d-f363-48da-beaa-2f57b4539269"
      },
      "execution_count": 108,
      "outputs": [
        {
          "output_type": "execute_result",
          "data": {
            "text/plain": [
              "10.0"
            ]
          },
          "metadata": {},
          "execution_count": 108
        }
      ]
    },
    {
      "cell_type": "code",
      "source": [
        "np.percentile(arr,50)"
      ],
      "metadata": {
        "colab": {
          "base_uri": "https://localhost:8080/"
        },
        "id": "Lde3r5qYW7SF",
        "outputId": "8bcf3c72-f7cb-4c82-b553-b50862fd302c"
      },
      "execution_count": 109,
      "outputs": [
        {
          "output_type": "execute_result",
          "data": {
            "text/plain": [
              "15.0"
            ]
          },
          "metadata": {},
          "execution_count": 109
        }
      ]
    },
    {
      "cell_type": "code",
      "source": [
        "np.median(arr)"
      ],
      "metadata": {
        "colab": {
          "base_uri": "https://localhost:8080/"
        },
        "id": "ZuxeWVz7XAHd",
        "outputId": "0b948f74-91d6-44be-ae06-d032a80a5937"
      },
      "execution_count": 110,
      "outputs": [
        {
          "output_type": "execute_result",
          "data": {
            "text/plain": [
              "15.0"
            ]
          },
          "metadata": {},
          "execution_count": 110
        }
      ]
    },
    {
      "cell_type": "code",
      "source": [
        "np.percentile(np.array([10,20,30,40,50,70]), 50)"
      ],
      "metadata": {
        "colab": {
          "base_uri": "https://localhost:8080/"
        },
        "id": "q808Bn8MXNZj",
        "outputId": "47005814-b7a9-47dc-c8c8-823f43e3f429"
      },
      "execution_count": 111,
      "outputs": [
        {
          "output_type": "execute_result",
          "data": {
            "text/plain": [
              "35.0"
            ]
          },
          "metadata": {},
          "execution_count": 111
        }
      ]
    },
    {
      "cell_type": "markdown",
      "source": [
        "##np.histogram()\n",
        "\n",
        "represents the frequency of data distribution in the graphical form"
      ],
      "metadata": {
        "id": "eNy7aXPJ_mzT"
      }
    },
    {
      "cell_type": "code",
      "source": [
        "arr1 = np.random.randint(10,100,(20))\n",
        "arr1"
      ],
      "metadata": {
        "colab": {
          "base_uri": "https://localhost:8080/"
        },
        "id": "wpc7czT1Aq82",
        "outputId": "1962d980-5270-4bcb-e94d-95e78e7c844a"
      },
      "execution_count": 115,
      "outputs": [
        {
          "output_type": "execute_result",
          "data": {
            "text/plain": [
              "array([59, 56, 62, 61, 51, 81, 12, 84, 16, 97, 35, 48, 11, 12, 26, 23, 82,\n",
              "       40, 45, 92])"
            ]
          },
          "metadata": {},
          "execution_count": 115
        }
      ]
    },
    {
      "cell_type": "code",
      "source": [
        "np.histogram(arr1, bins=[0,10,20,30,40,50,60,70,80,90,100])"
      ],
      "metadata": {
        "colab": {
          "base_uri": "https://localhost:8080/"
        },
        "id": "KN6snWX0CcLi",
        "outputId": "91b5ab36-45f2-410d-8dc9-7b22b274ffb9"
      },
      "execution_count": 116,
      "outputs": [
        {
          "output_type": "execute_result",
          "data": {
            "text/plain": [
              "(array([0, 4, 2, 1, 3, 3, 2, 0, 3, 2]),\n",
              " array([  0,  10,  20,  30,  40,  50,  60,  70,  80,  90, 100]))"
            ]
          },
          "metadata": {},
          "execution_count": 116
        }
      ]
    },
    {
      "cell_type": "code",
      "source": [
        "np.histogram(arr1, bins=[0,40,100])"
      ],
      "metadata": {
        "colab": {
          "base_uri": "https://localhost:8080/"
        },
        "id": "1xVho9OhD4aw",
        "outputId": "fabf2c59-b3f5-44d8-d66d-a8bb3bc8f9a8"
      },
      "execution_count": 118,
      "outputs": [
        {
          "output_type": "execute_result",
          "data": {
            "text/plain": [
              "(array([ 7, 13]), array([  0,  40, 100]))"
            ]
          },
          "metadata": {},
          "execution_count": 118
        }
      ]
    },
    {
      "cell_type": "markdown",
      "source": [
        "##np.corrcoef()\n",
        "\n",
        "correlation coefficient"
      ],
      "metadata": {
        "id": "zGxKPZUTEnrE"
      }
    },
    {
      "cell_type": "code",
      "source": [
        "salary = np.array([20000,40000,25000,35000,60000])\n",
        "experience = np.array([1,3,2,4,2])\n",
        "np.corrcoef(salary, experience)"
      ],
      "metadata": {
        "colab": {
          "base_uri": "https://localhost:8080/"
        },
        "id": "oYGevSdsEw8R",
        "outputId": "9e765dc3-deba-4b54-dc10-5601393b7038"
      },
      "execution_count": 119,
      "outputs": [
        {
          "output_type": "execute_result",
          "data": {
            "text/plain": [
              "array([[1.        , 0.25344572],\n",
              "       [0.25344572, 1.        ]])"
            ]
          },
          "metadata": {},
          "execution_count": 119
        }
      ]
    },
    {
      "cell_type": "markdown",
      "source": [
        "##np.isin()\n",
        "\n",
        "used to check whether each element in an array is contained in another array. It returns a boolean array of the same shape as the input array"
      ],
      "metadata": {
        "id": "Jdxs4heUI4hS"
      }
    },
    {
      "cell_type": "code",
      "source": [
        "arr1"
      ],
      "metadata": {
        "colab": {
          "base_uri": "https://localhost:8080/"
        },
        "id": "QXVTQaLcJQrs",
        "outputId": "244d252b-d9e6-425c-d9b2-03c9cdb28fb4"
      },
      "execution_count": 120,
      "outputs": [
        {
          "output_type": "execute_result",
          "data": {
            "text/plain": [
              "array([59, 56, 62, 61, 51, 81, 12, 84, 16, 97, 35, 48, 11, 12, 26, 23, 82,\n",
              "       40, 45, 92])"
            ]
          },
          "metadata": {},
          "execution_count": 120
        }
      ]
    },
    {
      "cell_type": "code",
      "source": [
        "items = [10,15,20,40,50,84]\n",
        "np.isin(arr1, items)"
      ],
      "metadata": {
        "colab": {
          "base_uri": "https://localhost:8080/"
        },
        "id": "ZIN_k-IjJTgU",
        "outputId": "e293c4c2-63f0-4762-9ab4-6aab4718ddf2"
      },
      "execution_count": 125,
      "outputs": [
        {
          "output_type": "execute_result",
          "data": {
            "text/plain": [
              "array([False, False, False, False, False, False, False,  True, False,\n",
              "       False, False, False, False, False, False, False, False,  True,\n",
              "       False, False])"
            ]
          },
          "metadata": {},
          "execution_count": 125
        }
      ]
    },
    {
      "cell_type": "code",
      "source": [
        "arr1[np.isin(arr1,items)]   # get only those items from arr1 which are present in items"
      ],
      "metadata": {
        "colab": {
          "base_uri": "https://localhost:8080/"
        },
        "id": "3HLbc5KqKv-U",
        "outputId": "79ce1e00-996e-4ff0-f4d5-0b4e852dc60d"
      },
      "execution_count": 126,
      "outputs": [
        {
          "output_type": "execute_result",
          "data": {
            "text/plain": [
              "array([84, 40])"
            ]
          },
          "metadata": {},
          "execution_count": 126
        }
      ]
    },
    {
      "cell_type": "markdown",
      "source": [
        "##np.flip()\n",
        "\n",
        "reverse the order of array elements along specified axis"
      ],
      "metadata": {
        "id": "8mARTGnPLJiH"
      }
    },
    {
      "cell_type": "code",
      "source": [
        "arr2 = np.arange(0,12).reshape(4,3)\n",
        "arr2"
      ],
      "metadata": {
        "colab": {
          "base_uri": "https://localhost:8080/"
        },
        "id": "4ViE3TmyMN80",
        "outputId": "8bdcdf77-efb4-495b-d49f-0b0712ffde2a"
      },
      "execution_count": 138,
      "outputs": [
        {
          "output_type": "execute_result",
          "data": {
            "text/plain": [
              "array([[ 0,  1,  2],\n",
              "       [ 3,  4,  5],\n",
              "       [ 6,  7,  8],\n",
              "       [ 9, 10, 11]])"
            ]
          },
          "metadata": {},
          "execution_count": 138
        }
      ]
    },
    {
      "cell_type": "code",
      "source": [
        "np.flip(arr2)   # if axis not specified all row and column will be reversed"
      ],
      "metadata": {
        "colab": {
          "base_uri": "https://localhost:8080/"
        },
        "id": "-1ssmvP8MlMy",
        "outputId": "8c08c058-f1e5-4e69-a5d1-ced389bc92f7"
      },
      "execution_count": 131,
      "outputs": [
        {
          "output_type": "execute_result",
          "data": {
            "text/plain": [
              "array([[11, 10,  9],\n",
              "       [ 8,  7,  6],\n",
              "       [ 5,  4,  3],\n",
              "       [ 2,  1,  0]])"
            ]
          },
          "metadata": {},
          "execution_count": 131
        }
      ]
    },
    {
      "cell_type": "code",
      "source": [
        "np.flip(arr2, axis=0)"
      ],
      "metadata": {
        "colab": {
          "base_uri": "https://localhost:8080/"
        },
        "id": "eWCX-O4RMxWr",
        "outputId": "1e5730ed-0f0e-45e5-e9f6-6b69af1f5eb6"
      },
      "execution_count": 132,
      "outputs": [
        {
          "output_type": "execute_result",
          "data": {
            "text/plain": [
              "array([[ 9, 10, 11],\n",
              "       [ 6,  7,  8],\n",
              "       [ 3,  4,  5],\n",
              "       [ 0,  1,  2]])"
            ]
          },
          "metadata": {},
          "execution_count": 132
        }
      ]
    },
    {
      "cell_type": "code",
      "source": [
        "np.flip(arr2, axis=1)"
      ],
      "metadata": {
        "colab": {
          "base_uri": "https://localhost:8080/"
        },
        "id": "8oiD4ZgBNMQF",
        "outputId": "f044963c-3f17-4ee2-866a-7bfb7b670047"
      },
      "execution_count": 133,
      "outputs": [
        {
          "output_type": "execute_result",
          "data": {
            "text/plain": [
              "array([[ 2,  1,  0],\n",
              "       [ 5,  4,  3],\n",
              "       [ 8,  7,  6],\n",
              "       [11, 10,  9]])"
            ]
          },
          "metadata": {},
          "execution_count": 133
        }
      ]
    },
    {
      "cell_type": "markdown",
      "source": [
        "##np.put()\n",
        "\n",
        "replaces specific elements of an array with given new values, it make permanent changes on original array. function will treat arrays of any dimension as flattened 1D arrays for indexing purposes."
      ],
      "metadata": {
        "id": "bN0ibuJRNP0P"
      }
    },
    {
      "cell_type": "code",
      "source": [
        "arr2"
      ],
      "metadata": {
        "colab": {
          "base_uri": "https://localhost:8080/"
        },
        "id": "XKA2zrXbPZIE",
        "outputId": "12dad04a-e81e-44b2-a56f-483e08e21fb6"
      },
      "execution_count": 134,
      "outputs": [
        {
          "output_type": "execute_result",
          "data": {
            "text/plain": [
              "array([[ 0,  1,  2],\n",
              "       [ 3,  4,  5],\n",
              "       [ 6,  7,  8],\n",
              "       [ 9, 10, 11]])"
            ]
          },
          "metadata": {},
          "execution_count": 134
        }
      ]
    },
    {
      "cell_type": "code",
      "source": [
        "np.put(arr2, [0,5,7], [100, 500, 700])  # [0,5,7] are indecis of elements(in flattened array) we want to change and [100,500,700] are new values respectively\n",
        "arr2"
      ],
      "metadata": {
        "colab": {
          "base_uri": "https://localhost:8080/"
        },
        "id": "kS1izf94PdyR",
        "outputId": "971adcc9-8eec-47b4-d490-d068a78eeead"
      },
      "execution_count": 140,
      "outputs": [
        {
          "output_type": "execute_result",
          "data": {
            "text/plain": [
              "array([[100,   1,   2],\n",
              "       [  3,   4, 500],\n",
              "       [  6, 700,   8],\n",
              "       [  9,  10,  11]])"
            ]
          },
          "metadata": {},
          "execution_count": 140
        }
      ]
    },
    {
      "cell_type": "markdown",
      "source": [
        "##np.delete()\n",
        "\n",
        " remove elements from an array along a specified axis. It returns a new array with the specified elements removed."
      ],
      "metadata": {
        "id": "LI5CiRYxUCQZ"
      }
    },
    {
      "cell_type": "code",
      "source": [
        "arr2"
      ],
      "metadata": {
        "colab": {
          "base_uri": "https://localhost:8080/"
        },
        "id": "LWUbKzOfUOXl",
        "outputId": "05761d1c-0701-44a6-b399-92e5a28ea1c7"
      },
      "execution_count": 142,
      "outputs": [
        {
          "output_type": "execute_result",
          "data": {
            "text/plain": [
              "array([[100,   1,   2],\n",
              "       [  3,   4, 500],\n",
              "       [  6, 700,   8],\n",
              "       [  9,  10,  11]])"
            ]
          },
          "metadata": {},
          "execution_count": 142
        }
      ]
    },
    {
      "cell_type": "code",
      "source": [
        "np.delete(arr2, [0, 5, 7])"
      ],
      "metadata": {
        "colab": {
          "base_uri": "https://localhost:8080/"
        },
        "id": "GwoO1YpPUSDI",
        "outputId": "612fae4a-6312-45ae-b0c4-320b1425a64a"
      },
      "execution_count": 143,
      "outputs": [
        {
          "output_type": "execute_result",
          "data": {
            "text/plain": [
              "array([ 1,  2,  3,  4,  6,  8,  9, 10, 11])"
            ]
          },
          "metadata": {},
          "execution_count": 143
        }
      ]
    },
    {
      "cell_type": "code",
      "source": [
        "np.delete(arr2,2, axis=0)"
      ],
      "metadata": {
        "colab": {
          "base_uri": "https://localhost:8080/"
        },
        "id": "cpBqA1cMVrN6",
        "outputId": "34689438-f978-4c7d-a845-5003fdef9e7a"
      },
      "execution_count": 149,
      "outputs": [
        {
          "output_type": "execute_result",
          "data": {
            "text/plain": [
              "array([[100,   1,   2],\n",
              "       [  3,   4, 500],\n",
              "       [  9,  10,  11]])"
            ]
          },
          "metadata": {},
          "execution_count": 149
        }
      ]
    },
    {
      "cell_type": "code",
      "source": [
        "np.delete(arr2,[0,2,3], axis=0)"
      ],
      "metadata": {
        "colab": {
          "base_uri": "https://localhost:8080/"
        },
        "id": "DbC0xwyfXLzJ",
        "outputId": "d5850a35-32df-4d8d-b23a-748dd4791d5b"
      },
      "execution_count": 150,
      "outputs": [
        {
          "output_type": "execute_result",
          "data": {
            "text/plain": [
              "array([[  3,   4, 500]])"
            ]
          },
          "metadata": {},
          "execution_count": 150
        }
      ]
    },
    {
      "cell_type": "markdown",
      "source": [
        "#set functions\n",
        "\n",
        "**np.union1d:** Computes the union of two arrays.<br>\n",
        "**np.intersect1d:** Computes the intersection of two arrays.<br>\n",
        "**np.setdiff1d:** Computes the set difference of two arrays.<br>\n",
        "**np.setxor1d:**  unique values that are in only one (not both) of the input arrays<br>\n",
        "**np.in1d:** Test whether each element of a 1-D array is also present in a second array."
      ],
      "metadata": {
        "id": "1UhatFZOXnxB"
      }
    },
    {
      "cell_type": "code",
      "source": [
        "m = np.array([1,2,3,4,5])\n",
        "n = np.array([3,4,5,6,7])"
      ],
      "metadata": {
        "id": "5AvlrUCOY7nR"
      },
      "execution_count": 151,
      "outputs": []
    },
    {
      "cell_type": "code",
      "source": [
        "np.union1d(m, n)"
      ],
      "metadata": {
        "colab": {
          "base_uri": "https://localhost:8080/"
        },
        "id": "qhgl3VusZUq7",
        "outputId": "412f11c6-c4ba-489d-acd0-364d46c280bd"
      },
      "execution_count": 152,
      "outputs": [
        {
          "output_type": "execute_result",
          "data": {
            "text/plain": [
              "array([1, 2, 3, 4, 5, 6, 7])"
            ]
          },
          "metadata": {},
          "execution_count": 152
        }
      ]
    },
    {
      "cell_type": "code",
      "source": [
        "np.intersect1d(m,n)"
      ],
      "metadata": {
        "colab": {
          "base_uri": "https://localhost:8080/"
        },
        "id": "hXwfLylSZdUz",
        "outputId": "19c374ab-2565-4b54-bc8b-9dc952be8061"
      },
      "execution_count": 153,
      "outputs": [
        {
          "output_type": "execute_result",
          "data": {
            "text/plain": [
              "array([3, 4, 5])"
            ]
          },
          "metadata": {},
          "execution_count": 153
        }
      ]
    },
    {
      "cell_type": "code",
      "source": [
        "np.setdiff1d(m,n)   # elements which are in m but not in n"
      ],
      "metadata": {
        "colab": {
          "base_uri": "https://localhost:8080/"
        },
        "id": "GvyJPUQjZi67",
        "outputId": "b795b098-15ac-4dc8-8e68-862867e8841b"
      },
      "execution_count": 154,
      "outputs": [
        {
          "output_type": "execute_result",
          "data": {
            "text/plain": [
              "array([1, 2])"
            ]
          },
          "metadata": {},
          "execution_count": 154
        }
      ]
    },
    {
      "cell_type": "code",
      "source": [
        "np.setdiff1d(n,m)   # elements which are in n but not in m"
      ],
      "metadata": {
        "colab": {
          "base_uri": "https://localhost:8080/"
        },
        "id": "GKxJdi0oZvKB",
        "outputId": "9db54d26-6f8d-457e-b9f1-5f47dc12c4fe"
      },
      "execution_count": 155,
      "outputs": [
        {
          "output_type": "execute_result",
          "data": {
            "text/plain": [
              "array([6, 7])"
            ]
          },
          "metadata": {},
          "execution_count": 155
        }
      ]
    },
    {
      "cell_type": "code",
      "source": [
        "np.setxor1d(m,n)    # items other than common"
      ],
      "metadata": {
        "colab": {
          "base_uri": "https://localhost:8080/"
        },
        "id": "R0I-tnAfZ5mX",
        "outputId": "7dc2db1e-3324-4a4a-82ce-eeeed289ee4e"
      },
      "execution_count": 158,
      "outputs": [
        {
          "output_type": "execute_result",
          "data": {
            "text/plain": [
              "array([1, 2, 6, 7])"
            ]
          },
          "metadata": {},
          "execution_count": 158
        }
      ]
    },
    {
      "cell_type": "code",
      "source": [
        "np.in1d(m,n)  # which item of m are n"
      ],
      "metadata": {
        "colab": {
          "base_uri": "https://localhost:8080/"
        },
        "id": "ej0G0ZhoaAiM",
        "outputId": "c970cc34-10aa-401c-96e4-2a5a30257805"
      },
      "execution_count": 159,
      "outputs": [
        {
          "output_type": "execute_result",
          "data": {
            "text/plain": [
              "array([False, False,  True,  True,  True])"
            ]
          },
          "metadata": {},
          "execution_count": 159
        }
      ]
    },
    {
      "cell_type": "code",
      "source": [
        "np.in1d(m,[1,2])"
      ],
      "metadata": {
        "colab": {
          "base_uri": "https://localhost:8080/"
        },
        "id": "sbuxJjKoadb8",
        "outputId": "23f0311b-e548-4a15-f729-7fb86404dd6e"
      },
      "execution_count": 160,
      "outputs": [
        {
          "output_type": "execute_result",
          "data": {
            "text/plain": [
              "array([ True,  True, False, False, False])"
            ]
          },
          "metadata": {},
          "execution_count": 160
        }
      ]
    },
    {
      "cell_type": "code",
      "source": [
        "np.in1d(m,10)"
      ],
      "metadata": {
        "colab": {
          "base_uri": "https://localhost:8080/"
        },
        "id": "qeyjIByyayOv",
        "outputId": "7ac21f33-bc66-477f-af10-3e453c1f65ef"
      },
      "execution_count": 161,
      "outputs": [
        {
          "output_type": "execute_result",
          "data": {
            "text/plain": [
              "array([False, False, False, False, False])"
            ]
          },
          "metadata": {},
          "execution_count": 161
        }
      ]
    },
    {
      "cell_type": "markdown",
      "source": [
        "##np.clip()\n",
        "\n",
        " used to limit the values in an array to a specified range.\n",
        "\n",
        "It takes three arguments: the array to be clipped, a minimum value, and a maximum value.\n",
        "\n",
        "Any values in the input array that are less than the minimum value are set to the minimum value, and any values greater than the maximum value are set to the maximum value."
      ],
      "metadata": {
        "id": "cY920sPQce3r"
      }
    },
    {
      "cell_type": "code",
      "source": [
        "arr = np.array([10,15,20,12,5,0,6,25,30,40])\n",
        "np.clip(arr, a_min=10, a_max=25)"
      ],
      "metadata": {
        "colab": {
          "base_uri": "https://localhost:8080/"
        },
        "id": "Zvj8aJy5dxnN",
        "outputId": "b5d082ee-f421-4402-a29e-3e5febf4c6b4"
      },
      "execution_count": 164,
      "outputs": [
        {
          "output_type": "execute_result",
          "data": {
            "text/plain": [
              "array([10, 15, 20, 12, 10, 10, 10, 25, 25, 25])"
            ]
          },
          "metadata": {},
          "execution_count": 164
        }
      ]
    }
  ]
}